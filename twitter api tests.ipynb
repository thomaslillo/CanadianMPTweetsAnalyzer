{
 "cells": [
  {
   "cell_type": "markdown",
   "id": "1932d28e",
   "metadata": {},
   "source": [
    "## links to the documentation\n",
    "\n",
    "#### DEVELOPERS ACCOUNT LINK\n",
    "https://developer.twitter.com/en/portal/projects/1396566685520367622/apps\n",
    "\n",
    "github examples\n",
    "https://github.com/twitterdev/Twitter-API-v2-sample-code/blob/master/Recent-Search/recent_search.py\n",
    "\n",
    "explore a users tweets - tutorial\n",
    "https://developer.twitter.com/en/docs/tutorials/explore-a-users-tweets\n",
    "\n",
    "past convo tutorial\n",
    "https://developer.twitter.com/en/docs/tutorials/analyze-past-conversations\n",
    "\n",
    "search tweets\n",
    "https://developer.twitter.com/en/docs/twitter-api/tweets/search/introduction\n",
    "\n",
    "tutorials - general\n",
    "https://developer.twitter.com/en/docs/tutorials"
   ]
  },
  {
   "cell_type": "code",
   "execution_count": 1,
   "id": "430a445f",
   "metadata": {},
   "outputs": [
    {
     "ename": "SyntaxError",
     "evalue": "invalid syntax (<ipython-input-1-b6a7c34bad86>, line 4)",
     "output_type": "error",
     "traceback": [
      "\u001b[1;36m  File \u001b[1;32m\"<ipython-input-1-b6a7c34bad86>\"\u001b[1;36m, line \u001b[1;32m4\u001b[0m\n\u001b[1;33m    export 'BEARER_TOKEN'='AAAAAAAAAAAAAAAAAAAAALnNPwEAAAAARPxO2h0miAqxDB4KKOzzlbdYjMQ%3DKxlk070Baka5kUmI8FrWb7Yr0vFAle7VKEIJ7yQ2r6Ks9N385i'\u001b[0m\n\u001b[1;37m           ^\u001b[0m\n\u001b[1;31mSyntaxError\u001b[0m\u001b[1;31m:\u001b[0m invalid syntax\n"
     ]
    }
   ],
   "source": [
    "## I do not understand this part, is it for security of the token?\n",
    "\n",
    "# To set your environment variables in your terminal run the following line:\n",
    "export 'BEARER_TOKEN'="
   ]
  },
  {
   "cell_type": "code",
   "execution_count": 8,
   "id": "c3ac3e54",
   "metadata": {},
   "outputs": [],
   "source": [
    "import os\n",
    "os.environ[\"BEARER_TOKEN\"] = 'AAAAAAAAAAAAAAAAAAAAALnNPwEAAAAARPxO2h0miAqxDB4KKOzzlbdYjMQ%3DKxlk070Baka5kUmI8FrWb7Yr0vFAle7VKEIJ7yQ2r6Ks9N385i'"
   ]
  },
  {
   "cell_type": "markdown",
   "id": "2c44d131",
   "metadata": {},
   "source": [
    "## important info\n",
    "\n",
    "API Key: OORhr4Go2BKYMblt915AmJsRC\n",
    "\n",
    "API Secret Key: RUMh90574HGVhasRtywPyxlkUaMlM66OXHMbDrWofFAjRAXU26\n",
    "\n",
    "Bearer Token: AAAAAAAAAAAAAAAAAAAAALnNPwEAAAAARPxO2h0miAqxDB4KKOzzlbdYjMQ%3DKxlk070Baka5kUmI8FrWb7Yr0vFAle7VKEIJ7yQ2r6Ks9N385i"
   ]
  },
  {
   "cell_type": "code",
   "execution_count": 3,
   "id": "c538330c",
   "metadata": {},
   "outputs": [],
   "source": [
    "import requests\n",
    "import os\n",
    "import json"
   ]
  },
  {
   "cell_type": "code",
   "execution_count": 4,
   "id": "198d486d",
   "metadata": {},
   "outputs": [],
   "source": [
    "justin = 'JustinTrudeau'\n",
    "otool = 'erinotooleSS'"
   ]
  },
  {
   "cell_type": "code",
   "execution_count": 5,
   "id": "90b3da99",
   "metadata": {},
   "outputs": [],
   "source": [
    "# authentication with the bearer token\n",
    "def auth():\n",
    "    return os.environ.get(\"BEARER_TOKEN\")\n",
    "\n",
    "# create the URL of the request\n",
    "def create_url():\n",
    "    query = \"from:JustinTrudeau -is:retweet\"\n",
    "    # Tweet fields are adjustable.\n",
    "    # Options include:\n",
    "    # attachments, author_id, context_annotations,\n",
    "    # conversation_id, created_at, entities, geo, id,\n",
    "    # in_reply_to_user_id, lang, non_public_metrics, organic_metrics,\n",
    "    # possibly_sensitive, promoted_metrics, public_metrics, referenced_tweets,\n",
    "    # source, text, and withheld\n",
    "    tweet_fields = \"tweet.fields=author_id\"\n",
    "    url = \"https://api.twitter.com/2/tweets/search/recent?query={}&{}\".format(\n",
    "        query, tweet_fields\n",
    "    )\n",
    "    return url\n",
    "\n",
    "def create_headers(bearer_token):\n",
    "    headers = {\"Authorization\": \"Bearer {}\".format(bearer_token)}\n",
    "    return headers\n",
    "\n",
    "def connect_to_endpoint(url, headers):\n",
    "    response = requests.request(\"GET\", url, headers=headers)\n",
    "    print(response.status_code)\n",
    "    if response.status_code != 200:\n",
    "        raise Exception(response.status_code, response.text)\n",
    "    return response.json()"
   ]
  },
  {
   "cell_type": "code",
   "execution_count": 6,
   "id": "2ac05384",
   "metadata": {},
   "outputs": [],
   "source": [
    "def main():\n",
    "    bearer_token = auth()\n",
    "    url = create_url()\n",
    "    headers = create_headers(bearer_token)\n",
    "    json_response = connect_to_endpoint(url, headers)\n",
    "    print(json.dumps(json_response, indent=4, sort_keys=True))"
   ]
  },
  {
   "cell_type": "code",
   "execution_count": 7,
   "id": "5c4ede49",
   "metadata": {},
   "outputs": [
    {
     "name": "stdout",
     "output_type": "stream",
     "text": [
      "200\n",
      "{\n",
      "    \"data\": [\n",
      "        {\n",
      "            \"author_id\": \"14260960\",\n",
      "            \"id\": \"1416195589616848898\",\n",
      "            \"text\": \"The reports and images of flooding in Germany, Belgium, Luxembourg, Switzerland, and the Netherlands are devastating. Canadians are sending our deepest condolences to those who have lost loved ones - and we\\u2019re keeping everyone affected in our thoughts during this difficult time.\"\n",
      "        },\n",
      "        {\n",
      "            \"author_id\": \"14260960\",\n",
      "            \"id\": \"1416195555110359040\",\n",
      "            \"text\": \"Les r\\u00e9cits et les images des inondations en Allemagne, en Belgique, au Luxembourg, en Suisse et aux Pays-Bas sont accablants. Le Canada offre ses plus sinc\\u00e8res condol\\u00e9ances \\u00e0 ceux qui ont perdu des proches, et nos pens\\u00e9es accompagnent les personnes touch\\u00e9es par cette \\u00e9preuve.\"\n",
      "        },\n",
      "        {\n",
      "            \"author_id\": \"14260960\",\n",
      "            \"id\": \"1416145939094441986\",\n",
      "            \"text\": \"@Liane_Roy_ Merci pour cette conversation productive, Liane. Et merci \\u00e0 la @FCFACanada pour tout ce qu\\u2019elle fait. Poursuivons notre collaboration afin de prot\\u00e9ger et de promouvoir la langue fran\\u00e7aise et d\\u2019appuyer les communaut\\u00e9s francophones et acadiennes d\\u2019un bout \\u00e0 l\\u2019autre du pays.\"\n",
      "        },\n",
      "        {\n",
      "            \"author_id\": \"14260960\",\n",
      "            \"id\": \"1416127896226250752\",\n",
      "            \"text\": \"Canada has a world-leading aerospace sector. Yesterday, we announced how we\\u2019re helping it grow greener and stronger - creating thousands of good jobs and student internships. Hear more from @FP_Champagne and @MelanieJoly \\u2b07\\ufe0f https://t.co/V4QOdnRKOV\"\n",
      "        },\n",
      "        {\n",
      "            \"author_id\": \"14260960\",\n",
      "            \"id\": \"1416127827901038599\",\n",
      "            \"text\": \"Le Canada b\\u00e9n\\u00e9ficie d\\u2019un secteur a\\u00e9rospatial de premier plan \\u00e0 l\\u2019\\u00e9chelle mondiale. Hier, on a annonc\\u00e9 comment on favorise la croissance solide et \\u00e9cologique du secteur, en cr\\u00e9ant des milliers de bons emplois et de stages. \\u00c9coutez @FP_Champagne et @MelanieJoly \\u2b07\\ufe0f https://t.co/NHiuSnWw4q\"\n",
      "        },\n",
      "        {\n",
      "            \"author_id\": \"14260960\",\n",
      "            \"id\": \"1416107182840504322\",\n",
      "            \"text\": \"This morning, I sat down with @APEC leaders to make more progress. Together, we\\u2019re committed to creating jobs and opportunities - and building an economic recovery that works for everyone. More on what we covered during our meeting: https://t.co/byUJbbHbIC https://t.co/SnQGp3Bs45\"\n",
      "        },\n",
      "        {\n",
      "            \"author_id\": \"14260960\",\n",
      "            \"id\": \"1416107176079265793\",\n",
      "            \"text\": \"This pandemic isn\\u2019t over. COVID-19 continues to impact people and economies around the world. To make sure everyone, everywhere can respond to - and recover from - this health and economic crisis, we need to keep working closely with our global partners.\"\n",
      "        },\n",
      "        {\n",
      "            \"author_id\": \"14260960\",\n",
      "            \"id\": \"1416107102645506059\",\n",
      "            \"text\": \"Ce matin, j\\u2019ai parl\\u00e9 avec les leaders de l\\u2019@APEC pour stimuler nos progr\\u00e8s. Ensemble, on veut cr\\u00e9er des emplois et des occasions et assurer une relance \\u00e9conomique profitable \\u00e0 tous. Pour en savoir plus sur les sujets abord\\u00e9s durant la rencontre : https://t.co/7KzMeE8Txd https://t.co/f7W2bh4vCA\"\n",
      "        },\n",
      "        {\n",
      "            \"author_id\": \"14260960\",\n",
      "            \"id\": \"1416107092545613824\",\n",
      "            \"text\": \"Cette pand\\u00e9mie n\\u2019est pas finie. La COVID-19 continue d\\u2019affecter les gens et les \\u00e9conomies du monde entier. Pour que tout le monde, partout, puisse r\\u00e9pondre \\u00e0 cette crise sanitaire et \\u00e9conomique et s\\u2019en relever, on va continuer de collaborer de pr\\u00e8s avec nos partenaires mondiaux.\"\n",
      "        },\n",
      "        {\n",
      "            \"author_id\": \"14260960\",\n",
      "            \"id\": \"1416080616102236162\",\n",
      "            \"text\": \"Please read my full statement on the passing of Senator Keating:\\u00a0https://t.co/fpNnik6mNV\"\n",
      "        }\n",
      "    ],\n",
      "    \"meta\": {\n",
      "        \"newest_id\": \"1416195589616848898\",\n",
      "        \"next_token\": \"b26v89c19zqg8o3fpdj97nhm76vr1lumzar284o2l5wu5\",\n",
      "        \"oldest_id\": \"1416080616102236162\",\n",
      "        \"result_count\": 10\n",
      "    }\n",
      "}\n",
      "None\n"
     ]
    }
   ],
   "source": [
    "print(main())"
   ]
  },
  {
   "cell_type": "code",
   "execution_count": null,
   "id": "2a113e9c",
   "metadata": {},
   "outputs": [],
   "source": []
  }
 ],
 "metadata": {
  "kernelspec": {
   "display_name": "Python 3",
   "language": "python",
   "name": "python3"
  },
  "language_info": {
   "codemirror_mode": {
    "name": "ipython",
    "version": 3
   },
   "file_extension": ".py",
   "mimetype": "text/x-python",
   "name": "python",
   "nbconvert_exporter": "python",
   "pygments_lexer": "ipython3",
   "version": "3.8.10"
  }
 },
 "nbformat": 4,
 "nbformat_minor": 5
}
