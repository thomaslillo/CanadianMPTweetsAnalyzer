{
 "cells": [
  {
   "cell_type": "code",
   "execution_count": 112,
   "id": "a414d2ba",
   "metadata": {},
   "outputs": [],
   "source": [
    "import requests\n",
    "import os\n",
    "import json\n",
    "import pandas as pd\n",
    "from datetime import date"
   ]
  },
  {
   "cell_type": "code",
   "execution_count": 58,
   "id": "e7cf08ce",
   "metadata": {},
   "outputs": [],
   "source": [
    "os.environ[\"BEARER_TOKEN\"] = 'AAAAAAAAAAAAAAAAAAAAALnNPwEAAAAARPxO2h0miAqxDB4KKOzzlbdYjMQ%3DKxlk070Baka5kUmI8FrWb7Yr0vFAle7VKEIJ7yQ2r6Ks9N385i'"
   ]
  },
  {
   "cell_type": "markdown",
   "id": "dd92c064",
   "metadata": {},
   "source": [
    "## functions"
   ]
  },
  {
   "cell_type": "code",
   "execution_count": 124,
   "id": "bec47e84",
   "metadata": {},
   "outputs": [],
   "source": [
    "# === user list request\n",
    "\n",
    "def bearer_oauth(r):\n",
    "    \"\"\"\n",
    "    Method required by bearer token authentication.\n",
    "    \"\"\"\n",
    "    token = os.environ[\"BEARER_TOKEN\"]\n",
    "    r.headers[\"Authorization\"] = f\"Bearer {token}\"\n",
    "    r.headers[\"User-Agent\"] = \"v2RecentSearchPython\"\n",
    "    return r\n",
    "\n",
    "def get_list(url, params):\n",
    "    response = requests.get(url, auth=bearer_oauth, params=params)\n",
    "    print(response.status_code)\n",
    "    if response.status_code != 200:\n",
    "        raise Exception(response.status_code, response.text)\n",
    "    return response.json()\n",
    "\n",
    "\n",
    "def users_request():\n",
    "    list_req_url = \"https://api.twitter.com/1.1/lists/members.json\"\n",
    "    parlListId = 864088912087715840\n",
    "    query_params = {'list_id': '{}'.format(parlListId), 'count': '5000'}\n",
    "    json_response = get_list(list_req_url, query_params)\n",
    "    return json_response\n",
    "\n",
    "def id_list():\n",
    "    json_response = users_request()\n",
    "    # extract the user IDs\n",
    "    members = pd.DataFrame.from_dict(json_response['users'])\n",
    "    user_ids = list(members['id'])\n",
    "    return user_ids\n",
    "\n",
    "def user_list():\n",
    "    json_response = users_request()\n",
    "    members = pd.DataFrame.from_dict(json_response['users'])\n",
    "    mem_list = members[['id','name','screen_name']]\n",
    "    return mem_list\n",
    "\n",
    "# === user information requests\n",
    "\n",
    "def create_headers():\n",
    "    \"\"\"\n",
    "    create the request headers, includes the token\n",
    "    \"\"\"\n",
    "    headers = {\"Authorization\": \"Bearer {}\".format(os.environ.get(\"BEARER_TOKEN\"))}\n",
    "    return headers\n",
    "\n",
    "def connect_to_endpoint(url, headers):\n",
    "    \"\"\"\n",
    "    connect to the API and return the json response\n",
    "    \"\"\"\n",
    "    response = requests.request(\"GET\", url, headers=headers)\n",
    "    print(response.status_code)\n",
    "    if response.status_code != 200:\n",
    "        raise Exception(response.status_code, response.text)\n",
    "    return response.json()\n",
    "\n",
    "def main(search_url):\n",
    "    headers = create_headers()\n",
    "    json_response = connect_to_endpoint(search_url, headers)\n",
    "    #return json.dumps(json_response, indent=4, sort_keys=True)\n",
    "    return json_response"
   ]
  },
  {
   "cell_type": "code",
   "execution_count": 60,
   "id": "57cfd383",
   "metadata": {},
   "outputs": [],
   "source": [
    "os.environ[\"BEARER_TOKEN\"] = 'AAAAAAAAAAAAAAAAAAAAALnNPwEAAAAARPxO2h0miAqxDB4KKOzzlbdYjMQ%3DKxlk070Baka5kUmI8FrWb7Yr0vFAle7VKEIJ7yQ2r6Ks9N385i'"
   ]
  },
  {
   "cell_type": "markdown",
   "id": "c03c5d6f",
   "metadata": {},
   "source": [
    "#### return the list of users"
   ]
  },
  {
   "cell_type": "code",
   "execution_count": 61,
   "id": "9f4d807e",
   "metadata": {},
   "outputs": [
    {
     "name": "stdout",
     "output_type": "stream",
     "text": [
      "321\n"
     ]
    }
   ],
   "source": [
    "# get the current list of MPs\n",
    "user_id_list = id_list()\n",
    "print(len(user_id_list))"
   ]
  },
  {
   "cell_type": "markdown",
   "id": "ae76bb19",
   "metadata": {},
   "source": [
    "## get all the tweets"
   ]
  },
  {
   "cell_type": "code",
   "execution_count": 62,
   "id": "8f7b829a",
   "metadata": {},
   "outputs": [],
   "source": [
    "# list to hold all of the json responses\n",
    "aggregate_data = []"
   ]
  },
  {
   "cell_type": "code",
   "execution_count": 75,
   "id": "c33d5c64",
   "metadata": {
    "scrolled": true
   },
   "outputs": [
    {
     "name": "stdout",
     "output_type": "stream",
     "text": [
      "1223994797834297350\n",
      "200\n",
      "1204044181037101057\n",
      "200\n",
      "1198299741060239360\n",
      "200\n",
      "1192858611879428097\n",
      "200\n",
      "1187132490684784642\n",
      "200\n",
      "1173429508034220032\n",
      "200\n",
      "1172345859905871872\n",
      "200\n",
      "1170770038208565248\n",
      "200\n",
      "1166717268975333376\n"
     ]
    },
    {
     "ename": "KeyboardInterrupt",
     "evalue": "",
     "output_type": "error",
     "traceback": [
      "\u001b[1;31m---------------------------------------------------------------------------\u001b[0m",
      "\u001b[1;31mKeyboardInterrupt\u001b[0m                         Traceback (most recent call last)",
      "\u001b[1;32m<ipython-input-75-d2c58442cb7a>\u001b[0m in \u001b[0;36m<module>\u001b[1;34m\u001b[0m\n\u001b[0;32m     10\u001b[0m     \u001b[0msearch_url\u001b[0m \u001b[1;33m=\u001b[0m \u001b[1;34m\"https://api.twitter.com/2/users/{}/tweets?tweet.fields={}&user.fields={}&max_results={}\"\u001b[0m\u001b[1;33m.\u001b[0m\u001b[0mformat\u001b[0m\u001b[1;33m(\u001b[0m\u001b[0muser\u001b[0m\u001b[1;33m,\u001b[0m\u001b[0mtweet_fields\u001b[0m\u001b[1;33m,\u001b[0m\u001b[0muser_fields\u001b[0m\u001b[1;33m,\u001b[0m\u001b[0mmax_results\u001b[0m\u001b[1;33m)\u001b[0m\u001b[1;33m\u001b[0m\u001b[1;33m\u001b[0m\u001b[0m\n\u001b[0;32m     11\u001b[0m     \u001b[1;31m# print(search_url)\u001b[0m\u001b[1;33m\u001b[0m\u001b[1;33m\u001b[0m\u001b[1;33m\u001b[0m\u001b[0m\n\u001b[1;32m---> 12\u001b[1;33m     \u001b[0mresponse\u001b[0m \u001b[1;33m=\u001b[0m \u001b[0mmain\u001b[0m\u001b[1;33m(\u001b[0m\u001b[0msearch_url\u001b[0m\u001b[1;33m)\u001b[0m\u001b[1;33m\u001b[0m\u001b[1;33m\u001b[0m\u001b[0m\n\u001b[0m\u001b[0;32m     13\u001b[0m \u001b[1;33m\u001b[0m\u001b[0m\n\u001b[0;32m     14\u001b[0m     \u001b[0maggregate_data\u001b[0m\u001b[1;33m.\u001b[0m\u001b[0mappend\u001b[0m\u001b[1;33m(\u001b[0m\u001b[0mresponse\u001b[0m\u001b[1;33m)\u001b[0m\u001b[1;33m\u001b[0m\u001b[1;33m\u001b[0m\u001b[0m\n",
      "\u001b[1;32m<ipython-input-59-6dbbdd2aa2fe>\u001b[0m in \u001b[0;36mmain\u001b[1;34m(search_url)\u001b[0m\n\u001b[0;32m     57\u001b[0m \u001b[1;32mdef\u001b[0m \u001b[0mmain\u001b[0m\u001b[1;33m(\u001b[0m\u001b[0msearch_url\u001b[0m\u001b[1;33m)\u001b[0m\u001b[1;33m:\u001b[0m\u001b[1;33m\u001b[0m\u001b[1;33m\u001b[0m\u001b[0m\n\u001b[0;32m     58\u001b[0m     \u001b[0mheaders\u001b[0m \u001b[1;33m=\u001b[0m \u001b[0mcreate_headers\u001b[0m\u001b[1;33m(\u001b[0m\u001b[1;33m)\u001b[0m\u001b[1;33m\u001b[0m\u001b[1;33m\u001b[0m\u001b[0m\n\u001b[1;32m---> 59\u001b[1;33m     \u001b[0mjson_response\u001b[0m \u001b[1;33m=\u001b[0m \u001b[0mconnect_to_endpoint\u001b[0m\u001b[1;33m(\u001b[0m\u001b[0msearch_url\u001b[0m\u001b[1;33m,\u001b[0m \u001b[0mheaders\u001b[0m\u001b[1;33m)\u001b[0m\u001b[1;33m\u001b[0m\u001b[1;33m\u001b[0m\u001b[0m\n\u001b[0m\u001b[0;32m     60\u001b[0m     \u001b[1;31m#return json.dumps(json_response, indent=4, sort_keys=True)\u001b[0m\u001b[1;33m\u001b[0m\u001b[1;33m\u001b[0m\u001b[1;33m\u001b[0m\u001b[0m\n\u001b[0;32m     61\u001b[0m     \u001b[1;32mreturn\u001b[0m \u001b[0mjson_response\u001b[0m\u001b[1;33m\u001b[0m\u001b[1;33m\u001b[0m\u001b[0m\n",
      "\u001b[1;32m<ipython-input-59-6dbbdd2aa2fe>\u001b[0m in \u001b[0;36mconnect_to_endpoint\u001b[1;34m(url, headers)\u001b[0m\n\u001b[0;32m     49\u001b[0m     \u001b[0mconnect\u001b[0m \u001b[0mto\u001b[0m \u001b[0mthe\u001b[0m \u001b[0mAPI\u001b[0m \u001b[1;32mand\u001b[0m \u001b[1;32mreturn\u001b[0m \u001b[0mthe\u001b[0m \u001b[0mjson\u001b[0m \u001b[0mresponse\u001b[0m\u001b[1;33m\u001b[0m\u001b[1;33m\u001b[0m\u001b[0m\n\u001b[0;32m     50\u001b[0m     \"\"\"\n\u001b[1;32m---> 51\u001b[1;33m     \u001b[0mresponse\u001b[0m \u001b[1;33m=\u001b[0m \u001b[0mrequests\u001b[0m\u001b[1;33m.\u001b[0m\u001b[0mrequest\u001b[0m\u001b[1;33m(\u001b[0m\u001b[1;34m\"GET\"\u001b[0m\u001b[1;33m,\u001b[0m \u001b[0murl\u001b[0m\u001b[1;33m,\u001b[0m \u001b[0mheaders\u001b[0m\u001b[1;33m=\u001b[0m\u001b[0mheaders\u001b[0m\u001b[1;33m)\u001b[0m\u001b[1;33m\u001b[0m\u001b[1;33m\u001b[0m\u001b[0m\n\u001b[0m\u001b[0;32m     52\u001b[0m     \u001b[0mprint\u001b[0m\u001b[1;33m(\u001b[0m\u001b[0mresponse\u001b[0m\u001b[1;33m.\u001b[0m\u001b[0mstatus_code\u001b[0m\u001b[1;33m)\u001b[0m\u001b[1;33m\u001b[0m\u001b[1;33m\u001b[0m\u001b[0m\n\u001b[0;32m     53\u001b[0m     \u001b[1;32mif\u001b[0m \u001b[0mresponse\u001b[0m\u001b[1;33m.\u001b[0m\u001b[0mstatus_code\u001b[0m \u001b[1;33m!=\u001b[0m \u001b[1;36m200\u001b[0m\u001b[1;33m:\u001b[0m\u001b[1;33m\u001b[0m\u001b[1;33m\u001b[0m\u001b[0m\n",
      "\u001b[1;32m~\\.conda\\envs\\DataWork\\lib\\site-packages\\requests\\api.py\u001b[0m in \u001b[0;36mrequest\u001b[1;34m(method, url, **kwargs)\u001b[0m\n\u001b[0;32m     59\u001b[0m     \u001b[1;31m# cases, and look like a memory leak in others.\u001b[0m\u001b[1;33m\u001b[0m\u001b[1;33m\u001b[0m\u001b[1;33m\u001b[0m\u001b[0m\n\u001b[0;32m     60\u001b[0m     \u001b[1;32mwith\u001b[0m \u001b[0msessions\u001b[0m\u001b[1;33m.\u001b[0m\u001b[0mSession\u001b[0m\u001b[1;33m(\u001b[0m\u001b[1;33m)\u001b[0m \u001b[1;32mas\u001b[0m \u001b[0msession\u001b[0m\u001b[1;33m:\u001b[0m\u001b[1;33m\u001b[0m\u001b[1;33m\u001b[0m\u001b[0m\n\u001b[1;32m---> 61\u001b[1;33m         \u001b[1;32mreturn\u001b[0m \u001b[0msession\u001b[0m\u001b[1;33m.\u001b[0m\u001b[0mrequest\u001b[0m\u001b[1;33m(\u001b[0m\u001b[0mmethod\u001b[0m\u001b[1;33m=\u001b[0m\u001b[0mmethod\u001b[0m\u001b[1;33m,\u001b[0m \u001b[0murl\u001b[0m\u001b[1;33m=\u001b[0m\u001b[0murl\u001b[0m\u001b[1;33m,\u001b[0m \u001b[1;33m**\u001b[0m\u001b[0mkwargs\u001b[0m\u001b[1;33m)\u001b[0m\u001b[1;33m\u001b[0m\u001b[1;33m\u001b[0m\u001b[0m\n\u001b[0m\u001b[0;32m     62\u001b[0m \u001b[1;33m\u001b[0m\u001b[0m\n\u001b[0;32m     63\u001b[0m \u001b[1;33m\u001b[0m\u001b[0m\n",
      "\u001b[1;32m~\\.conda\\envs\\DataWork\\lib\\site-packages\\requests\\sessions.py\u001b[0m in \u001b[0;36mrequest\u001b[1;34m(self, method, url, params, data, headers, cookies, files, auth, timeout, allow_redirects, proxies, hooks, stream, verify, cert, json)\u001b[0m\n\u001b[0;32m    540\u001b[0m         }\n\u001b[0;32m    541\u001b[0m         \u001b[0msend_kwargs\u001b[0m\u001b[1;33m.\u001b[0m\u001b[0mupdate\u001b[0m\u001b[1;33m(\u001b[0m\u001b[0msettings\u001b[0m\u001b[1;33m)\u001b[0m\u001b[1;33m\u001b[0m\u001b[1;33m\u001b[0m\u001b[0m\n\u001b[1;32m--> 542\u001b[1;33m         \u001b[0mresp\u001b[0m \u001b[1;33m=\u001b[0m \u001b[0mself\u001b[0m\u001b[1;33m.\u001b[0m\u001b[0msend\u001b[0m\u001b[1;33m(\u001b[0m\u001b[0mprep\u001b[0m\u001b[1;33m,\u001b[0m \u001b[1;33m**\u001b[0m\u001b[0msend_kwargs\u001b[0m\u001b[1;33m)\u001b[0m\u001b[1;33m\u001b[0m\u001b[1;33m\u001b[0m\u001b[0m\n\u001b[0m\u001b[0;32m    543\u001b[0m \u001b[1;33m\u001b[0m\u001b[0m\n\u001b[0;32m    544\u001b[0m         \u001b[1;32mreturn\u001b[0m \u001b[0mresp\u001b[0m\u001b[1;33m\u001b[0m\u001b[1;33m\u001b[0m\u001b[0m\n",
      "\u001b[1;32m~\\.conda\\envs\\DataWork\\lib\\site-packages\\requests\\sessions.py\u001b[0m in \u001b[0;36msend\u001b[1;34m(self, request, **kwargs)\u001b[0m\n\u001b[0;32m    653\u001b[0m \u001b[1;33m\u001b[0m\u001b[0m\n\u001b[0;32m    654\u001b[0m         \u001b[1;31m# Send the request\u001b[0m\u001b[1;33m\u001b[0m\u001b[1;33m\u001b[0m\u001b[1;33m\u001b[0m\u001b[0m\n\u001b[1;32m--> 655\u001b[1;33m         \u001b[0mr\u001b[0m \u001b[1;33m=\u001b[0m \u001b[0madapter\u001b[0m\u001b[1;33m.\u001b[0m\u001b[0msend\u001b[0m\u001b[1;33m(\u001b[0m\u001b[0mrequest\u001b[0m\u001b[1;33m,\u001b[0m \u001b[1;33m**\u001b[0m\u001b[0mkwargs\u001b[0m\u001b[1;33m)\u001b[0m\u001b[1;33m\u001b[0m\u001b[1;33m\u001b[0m\u001b[0m\n\u001b[0m\u001b[0;32m    656\u001b[0m \u001b[1;33m\u001b[0m\u001b[0m\n\u001b[0;32m    657\u001b[0m         \u001b[1;31m# Total elapsed time of the request (approximately)\u001b[0m\u001b[1;33m\u001b[0m\u001b[1;33m\u001b[0m\u001b[1;33m\u001b[0m\u001b[0m\n",
      "\u001b[1;32m~\\.conda\\envs\\DataWork\\lib\\site-packages\\requests\\adapters.py\u001b[0m in \u001b[0;36msend\u001b[1;34m(self, request, stream, timeout, verify, cert, proxies)\u001b[0m\n\u001b[0;32m    437\u001b[0m         \u001b[1;32mtry\u001b[0m\u001b[1;33m:\u001b[0m\u001b[1;33m\u001b[0m\u001b[1;33m\u001b[0m\u001b[0m\n\u001b[0;32m    438\u001b[0m             \u001b[1;32mif\u001b[0m \u001b[1;32mnot\u001b[0m \u001b[0mchunked\u001b[0m\u001b[1;33m:\u001b[0m\u001b[1;33m\u001b[0m\u001b[1;33m\u001b[0m\u001b[0m\n\u001b[1;32m--> 439\u001b[1;33m                 resp = conn.urlopen(\n\u001b[0m\u001b[0;32m    440\u001b[0m                     \u001b[0mmethod\u001b[0m\u001b[1;33m=\u001b[0m\u001b[0mrequest\u001b[0m\u001b[1;33m.\u001b[0m\u001b[0mmethod\u001b[0m\u001b[1;33m,\u001b[0m\u001b[1;33m\u001b[0m\u001b[1;33m\u001b[0m\u001b[0m\n\u001b[0;32m    441\u001b[0m                     \u001b[0murl\u001b[0m\u001b[1;33m=\u001b[0m\u001b[0murl\u001b[0m\u001b[1;33m,\u001b[0m\u001b[1;33m\u001b[0m\u001b[1;33m\u001b[0m\u001b[0m\n",
      "\u001b[1;32m~\\.conda\\envs\\DataWork\\lib\\site-packages\\urllib3\\connectionpool.py\u001b[0m in \u001b[0;36murlopen\u001b[1;34m(self, method, url, body, headers, retries, redirect, assert_same_host, timeout, pool_timeout, release_conn, chunked, body_pos, **response_kw)\u001b[0m\n\u001b[0;32m    697\u001b[0m \u001b[1;33m\u001b[0m\u001b[0m\n\u001b[0;32m    698\u001b[0m             \u001b[1;31m# Make the request on the httplib connection object.\u001b[0m\u001b[1;33m\u001b[0m\u001b[1;33m\u001b[0m\u001b[1;33m\u001b[0m\u001b[0m\n\u001b[1;32m--> 699\u001b[1;33m             httplib_response = self._make_request(\n\u001b[0m\u001b[0;32m    700\u001b[0m                 \u001b[0mconn\u001b[0m\u001b[1;33m,\u001b[0m\u001b[1;33m\u001b[0m\u001b[1;33m\u001b[0m\u001b[0m\n\u001b[0;32m    701\u001b[0m                 \u001b[0mmethod\u001b[0m\u001b[1;33m,\u001b[0m\u001b[1;33m\u001b[0m\u001b[1;33m\u001b[0m\u001b[0m\n",
      "\u001b[1;32m~\\.conda\\envs\\DataWork\\lib\\site-packages\\urllib3\\connectionpool.py\u001b[0m in \u001b[0;36m_make_request\u001b[1;34m(self, conn, method, url, timeout, chunked, **httplib_request_kw)\u001b[0m\n\u001b[0;32m    380\u001b[0m         \u001b[1;31m# Trigger any extra validation we need to do.\u001b[0m\u001b[1;33m\u001b[0m\u001b[1;33m\u001b[0m\u001b[1;33m\u001b[0m\u001b[0m\n\u001b[0;32m    381\u001b[0m         \u001b[1;32mtry\u001b[0m\u001b[1;33m:\u001b[0m\u001b[1;33m\u001b[0m\u001b[1;33m\u001b[0m\u001b[0m\n\u001b[1;32m--> 382\u001b[1;33m             \u001b[0mself\u001b[0m\u001b[1;33m.\u001b[0m\u001b[0m_validate_conn\u001b[0m\u001b[1;33m(\u001b[0m\u001b[0mconn\u001b[0m\u001b[1;33m)\u001b[0m\u001b[1;33m\u001b[0m\u001b[1;33m\u001b[0m\u001b[0m\n\u001b[0m\u001b[0;32m    383\u001b[0m         \u001b[1;32mexcept\u001b[0m \u001b[1;33m(\u001b[0m\u001b[0mSocketTimeout\u001b[0m\u001b[1;33m,\u001b[0m \u001b[0mBaseSSLError\u001b[0m\u001b[1;33m)\u001b[0m \u001b[1;32mas\u001b[0m \u001b[0me\u001b[0m\u001b[1;33m:\u001b[0m\u001b[1;33m\u001b[0m\u001b[1;33m\u001b[0m\u001b[0m\n\u001b[0;32m    384\u001b[0m             \u001b[1;31m# Py2 raises this as a BaseSSLError, Py3 raises it as socket timeout.\u001b[0m\u001b[1;33m\u001b[0m\u001b[1;33m\u001b[0m\u001b[1;33m\u001b[0m\u001b[0m\n",
      "\u001b[1;32m~\\.conda\\envs\\DataWork\\lib\\site-packages\\urllib3\\connectionpool.py\u001b[0m in \u001b[0;36m_validate_conn\u001b[1;34m(self, conn)\u001b[0m\n\u001b[0;32m   1008\u001b[0m         \u001b[1;31m# Force connect early to allow us to validate the connection.\u001b[0m\u001b[1;33m\u001b[0m\u001b[1;33m\u001b[0m\u001b[1;33m\u001b[0m\u001b[0m\n\u001b[0;32m   1009\u001b[0m         \u001b[1;32mif\u001b[0m \u001b[1;32mnot\u001b[0m \u001b[0mgetattr\u001b[0m\u001b[1;33m(\u001b[0m\u001b[0mconn\u001b[0m\u001b[1;33m,\u001b[0m \u001b[1;34m\"sock\"\u001b[0m\u001b[1;33m,\u001b[0m \u001b[1;32mNone\u001b[0m\u001b[1;33m)\u001b[0m\u001b[1;33m:\u001b[0m  \u001b[1;31m# AppEngine might not have  `.sock`\u001b[0m\u001b[1;33m\u001b[0m\u001b[1;33m\u001b[0m\u001b[0m\n\u001b[1;32m-> 1010\u001b[1;33m             \u001b[0mconn\u001b[0m\u001b[1;33m.\u001b[0m\u001b[0mconnect\u001b[0m\u001b[1;33m(\u001b[0m\u001b[1;33m)\u001b[0m\u001b[1;33m\u001b[0m\u001b[1;33m\u001b[0m\u001b[0m\n\u001b[0m\u001b[0;32m   1011\u001b[0m \u001b[1;33m\u001b[0m\u001b[0m\n\u001b[0;32m   1012\u001b[0m         \u001b[1;32mif\u001b[0m \u001b[1;32mnot\u001b[0m \u001b[0mconn\u001b[0m\u001b[1;33m.\u001b[0m\u001b[0mis_verified\u001b[0m\u001b[1;33m:\u001b[0m\u001b[1;33m\u001b[0m\u001b[1;33m\u001b[0m\u001b[0m\n",
      "\u001b[1;32m~\\.conda\\envs\\DataWork\\lib\\site-packages\\urllib3\\connection.py\u001b[0m in \u001b[0;36mconnect\u001b[1;34m(self)\u001b[0m\n\u001b[0;32m    351\u001b[0m     \u001b[1;32mdef\u001b[0m \u001b[0mconnect\u001b[0m\u001b[1;33m(\u001b[0m\u001b[0mself\u001b[0m\u001b[1;33m)\u001b[0m\u001b[1;33m:\u001b[0m\u001b[1;33m\u001b[0m\u001b[1;33m\u001b[0m\u001b[0m\n\u001b[0;32m    352\u001b[0m         \u001b[1;31m# Add certificate verification\u001b[0m\u001b[1;33m\u001b[0m\u001b[1;33m\u001b[0m\u001b[1;33m\u001b[0m\u001b[0m\n\u001b[1;32m--> 353\u001b[1;33m         \u001b[0mconn\u001b[0m \u001b[1;33m=\u001b[0m \u001b[0mself\u001b[0m\u001b[1;33m.\u001b[0m\u001b[0m_new_conn\u001b[0m\u001b[1;33m(\u001b[0m\u001b[1;33m)\u001b[0m\u001b[1;33m\u001b[0m\u001b[1;33m\u001b[0m\u001b[0m\n\u001b[0m\u001b[0;32m    354\u001b[0m         \u001b[0mhostname\u001b[0m \u001b[1;33m=\u001b[0m \u001b[0mself\u001b[0m\u001b[1;33m.\u001b[0m\u001b[0mhost\u001b[0m\u001b[1;33m\u001b[0m\u001b[1;33m\u001b[0m\u001b[0m\n\u001b[0;32m    355\u001b[0m         \u001b[0mtls_in_tls\u001b[0m \u001b[1;33m=\u001b[0m \u001b[1;32mFalse\u001b[0m\u001b[1;33m\u001b[0m\u001b[1;33m\u001b[0m\u001b[0m\n",
      "\u001b[1;32m~\\.conda\\envs\\DataWork\\lib\\site-packages\\urllib3\\connection.py\u001b[0m in \u001b[0;36m_new_conn\u001b[1;34m(self)\u001b[0m\n\u001b[0;32m    167\u001b[0m \u001b[1;33m\u001b[0m\u001b[0m\n\u001b[0;32m    168\u001b[0m         \u001b[1;32mtry\u001b[0m\u001b[1;33m:\u001b[0m\u001b[1;33m\u001b[0m\u001b[1;33m\u001b[0m\u001b[0m\n\u001b[1;32m--> 169\u001b[1;33m             conn = connection.create_connection(\n\u001b[0m\u001b[0;32m    170\u001b[0m                 \u001b[1;33m(\u001b[0m\u001b[0mself\u001b[0m\u001b[1;33m.\u001b[0m\u001b[0m_dns_host\u001b[0m\u001b[1;33m,\u001b[0m \u001b[0mself\u001b[0m\u001b[1;33m.\u001b[0m\u001b[0mport\u001b[0m\u001b[1;33m)\u001b[0m\u001b[1;33m,\u001b[0m \u001b[0mself\u001b[0m\u001b[1;33m.\u001b[0m\u001b[0mtimeout\u001b[0m\u001b[1;33m,\u001b[0m \u001b[1;33m**\u001b[0m\u001b[0mextra_kw\u001b[0m\u001b[1;33m\u001b[0m\u001b[1;33m\u001b[0m\u001b[0m\n\u001b[0;32m    171\u001b[0m             )\n",
      "\u001b[1;32m~\\.conda\\envs\\DataWork\\lib\\site-packages\\urllib3\\util\\connection.py\u001b[0m in \u001b[0;36mcreate_connection\u001b[1;34m(address, timeout, source_address, socket_options)\u001b[0m\n\u001b[0;32m     84\u001b[0m             \u001b[1;32mif\u001b[0m \u001b[0msource_address\u001b[0m\u001b[1;33m:\u001b[0m\u001b[1;33m\u001b[0m\u001b[1;33m\u001b[0m\u001b[0m\n\u001b[0;32m     85\u001b[0m                 \u001b[0msock\u001b[0m\u001b[1;33m.\u001b[0m\u001b[0mbind\u001b[0m\u001b[1;33m(\u001b[0m\u001b[0msource_address\u001b[0m\u001b[1;33m)\u001b[0m\u001b[1;33m\u001b[0m\u001b[1;33m\u001b[0m\u001b[0m\n\u001b[1;32m---> 86\u001b[1;33m             \u001b[0msock\u001b[0m\u001b[1;33m.\u001b[0m\u001b[0mconnect\u001b[0m\u001b[1;33m(\u001b[0m\u001b[0msa\u001b[0m\u001b[1;33m)\u001b[0m\u001b[1;33m\u001b[0m\u001b[1;33m\u001b[0m\u001b[0m\n\u001b[0m\u001b[0;32m     87\u001b[0m             \u001b[1;32mreturn\u001b[0m \u001b[0msock\u001b[0m\u001b[1;33m\u001b[0m\u001b[1;33m\u001b[0m\u001b[0m\n\u001b[0;32m     88\u001b[0m \u001b[1;33m\u001b[0m\u001b[0m\n",
      "\u001b[1;31mKeyboardInterrupt\u001b[0m: "
     ]
    }
   ],
   "source": [
    "for user in user_id_list:\n",
    "    # define which fields will be returned\n",
    "    tweet_fields = 'created_at,author_id,conversation_id,entities,in_reply_to_user_id,referenced_tweets,text,public_metrics'\n",
    "    user_fields = 'username,public_metrics,verified,url,id'\n",
    "    max_results = '30'\n",
    "    \n",
    "    print(user)\n",
    "    \n",
    "    # the user request url\n",
    "    search_url = \"https://api.twitter.com/2/users/{}/tweets?tweet.fields={}&user.fields={}&max_results={}\".format(user,tweet_fields,user_fields,max_results)\n",
    "    # print(search_url)\n",
    "    response = main(search_url)\n",
    "    \n",
    "    aggregate_data.append(response)"
   ]
  },
  {
   "cell_type": "code",
   "execution_count": 66,
   "id": "e1c5ca12",
   "metadata": {},
   "outputs": [
    {
     "name": "stdout",
     "output_type": "stream",
     "text": [
      "44\n"
     ]
    }
   ],
   "source": [
    "# check that we have all the MPs\n",
    "print(len(aggregate_data))"
   ]
  },
  {
   "cell_type": "code",
   "execution_count": 67,
   "id": "e9a52e30",
   "metadata": {},
   "outputs": [
    {
     "name": "stdout",
     "output_type": "stream",
     "text": [
      "{'data': [{'id': '1319085046934929410', 'created_at': '2020-10-22T01:15:57.000Z', 'public_metrics': {'retweet_count': 23, 'reply_count': 0, 'like_count': 0, 'quote_count': 0}, 'conversation_id': '1319085046934929410', 'referenced_tweets': [{'type': 'retweeted', 'id': '1318947998857109504'}], 'author_id': '1223994797834297350', 'text': 'RT @BlocQuebecois: Depuis un an, 32 députés du #BlocQc portent fièrement la voix du Québec à Ottawa. Grâce à vous, nous avons le privilège…'}, {'id': '1318664109160878087', 'created_at': '2020-10-20T21:23:17.000Z', 'public_metrics': {'retweet_count': 0, 'reply_count': 0, 'like_count': 0, 'quote_count': 0}, 'conversation_id': '1318664109160878087', 'author_id': '1223994797834297350', 'text': 'Attention! Attention! La date butoir est repoussée au vendredi 23 octobre, 15 h pour le programme Nouveaux Horizons aux aînés 2020 #polcan https://t.co/mLEGV4eB6F'}, {'id': '1317208407133257728', 'created_at': '2020-10-16T20:58:51.000Z', 'public_metrics': {'retweet_count': 28, 'reply_count': 0, 'like_count': 0, 'quote_count': 0}, 'conversation_id': '1317208407133257728', 'referenced_tweets': [{'type': 'retweeted', 'id': '1317133200020353025'}], 'author_id': '1223994797834297350', 'text': 'RT @BlocQuebecois: https://t.co/Vtdvla37Sv'}, {'id': '1316362620065193984', 'created_at': '2020-10-14T12:58:00.000Z', 'public_metrics': {'retweet_count': 21, 'reply_count': 0, 'like_count': 0, 'quote_count': 0}, 'conversation_id': '1316362620065193984', 'referenced_tweets': [{'type': 'retweeted', 'id': '1316182924174163969'}], 'author_id': '1223994797834297350', 'text': 'RT @yfblanchet: De toute beauté et si belle de sens. 🙏🏻', 'context_annotations': [{'domain': {'id': '65', 'name': 'Interests and Hobbies Vertical', 'description': 'Top level interests and hobbies groupings, like Food or Travel'}, 'entity': {'id': '847868745150119936', 'name': 'Home & family', 'description': 'Hobbies and interests'}}, {'domain': {'id': '66', 'name': 'Interests and Hobbies Category', 'description': 'A grouping of interests and hobbies entities, like Novelty Food or Destinations'}, 'entity': {'id': '1046577790353428480', 'name': 'Visual arts', 'description': 'Visual Arts'}}, {'domain': {'id': '67', 'name': 'Interests and Hobbies', 'description': 'Interests, opinions, and behaviors of individuals, groups, or cultures; like Speciality Cooking or Theme Parks'}, 'entity': {'id': '1046579830823706624', 'name': 'Sculpting', 'description': 'Sculpting'}}]}, {'id': '1314305747107360768', 'created_at': '2020-10-08T20:44:43.000Z', 'public_metrics': {'retweet_count': 57, 'reply_count': 0, 'like_count': 0, 'quote_count': 0}, 'conversation_id': '1314305747107360768', 'referenced_tweets': [{'type': 'retweeted', 'id': '1313962383069655040'}], 'author_id': '1223994797834297350', 'text': 'RT @BlocQuebecois: Crise d’octobre : le #BlocQc demande à Justin Trudeau, des excuses pour les 497 personnes incarcérées sans motif, ainsi…', 'context_annotations': [{'domain': {'id': '10', 'name': 'Person', 'description': 'Named people in the world like Nelson Mandela'}, 'entity': {'id': '834164697880416257', 'name': 'Justin Trudeau', 'description': 'Canadian Prime Minister Justin Trudeau'}}, {'domain': {'id': '35', 'name': 'Politician', 'description': 'Politicians in the world, like Joe Biden'}, 'entity': {'id': '834164697880416257', 'name': 'Justin Trudeau', 'description': 'Canadian Prime Minister Justin Trudeau'}}]}, {'id': '1296965138726170624', 'created_at': '2020-08-22T00:19:20.000Z', 'public_metrics': {'retweet_count': 8, 'reply_count': 0, 'like_count': 0, 'quote_count': 0}, 'conversation_id': '1296965138726170624', 'referenced_tweets': [{'type': 'retweeted', 'id': '1296899877004169216'}], 'author_id': '1223994797834297350', 'text': 'RT @BlocQuebecois: Accompagné des députés du #BlocQc, le chef @yfblanchet a conclu hier le caucus estival du parti en Gaspésie, dont le thè…'}, {'id': '1296964264205398025', 'created_at': '2020-08-22T00:15:51.000Z', 'public_metrics': {'retweet_count': 1, 'reply_count': 0, 'like_count': 2, 'quote_count': 0}, 'conversation_id': '1296964264205398025', 'author_id': '1223994797834297350', 'text': \"Visite surprise chez notre collègue Jean Beauchesne pour l'encourager dans son parcours de vie. Le chef du BQ, Yves-François Blanchet a tenu à saluer le courage et la résilience de ce membre de l'équipe de la circonscription de Trois-Rivières.#polcan#polqc https://t.co/NjvlIJmizv\"}, {'id': '1296410086081015808', 'created_at': '2020-08-20T11:33:45.000Z', 'public_metrics': {'retweet_count': 24, 'reply_count': 0, 'like_count': 0, 'quote_count': 0}, 'conversation_id': '1296410086081015808', 'referenced_tweets': [{'type': 'retweeted', 'id': '1296166165115527174'}], 'author_id': '1223994797834297350', 'text': 'RT @BlocQuebecois: Notre communiqué : https://t.co/BovZJMdtiI\\n@RhealFortin #WECharity #polcan #polqc https://t.co/6n3MIb3iUd'}, {'id': '1294998996688211968', 'created_at': '2020-08-16T14:06:35.000Z', 'public_metrics': {'retweet_count': 113, 'reply_count': 0, 'like_count': 0, 'quote_count': 0}, 'conversation_id': '1294998996688211968', 'referenced_tweets': [{'type': 'retweeted', 'id': '1294784479886749698'}], 'author_id': '1223994797834297350', 'text': 'RT @yfblanchet: Montréal dépouillée de son “é” comme le Québec de son identité. \\nLe marché du travail anglicise la métropole. \\nSeule la men…'}, {'id': '1294778685359366146', 'created_at': '2020-08-15T23:31:09.000Z', 'public_metrics': {'retweet_count': 0, 'reply_count': 0, 'like_count': 2, 'quote_count': 0}, 'conversation_id': '1294778685359366146', 'author_id': '1223994797834297350', 'text': \"Déjeuner dans les jardins du Sanctuaire Notre Dame du Cap,  avec Nicole Philippe, prés. de l'exécutif du BQ de Trois-Rivières,  l'abbé Bédard et des membres de la communauté haïtienne de Longueuil,  Montréal, Toronto et Trois-Rivières.  Merci beaucoup pour votre accueil ! https://t.co/iyIZmT1Ojd\", 'context_annotations': [{'domain': {'id': '3', 'name': 'TV Shows', 'description': 'Television shows from around the world'}, 'entity': {'id': '10027427957', 'name': 'Barclays Premier League Football', 'description': 'Coverage of the latest Friday night fixture from the Premier League.'}}, {'domain': {'id': '6', 'name': 'Sports Event'}, 'entity': {'id': '1278118029344165888', 'name': 'Sport Recife x Athletico PR'}}, {'domain': {'id': '26', 'name': 'Sports League', 'description': ''}, 'entity': {'id': '731226184764121088', 'name': 'Brazil - Soccer'}}, {'domain': {'id': '26', 'name': 'Sports League', 'description': ''}, 'entity': {'id': '731226216980570112', 'name': 'South America - Soccer'}}, {'domain': {'id': '26', 'name': 'Sports League', 'description': ''}, 'entity': {'id': '733756530479112192', 'name': 'Campeonato Brasileiro'}}]}, {'id': '1294687080891797504', 'created_at': '2020-08-15T17:27:08.000Z', 'public_metrics': {'retweet_count': 0, 'reply_count': 0, 'like_count': 1, 'quote_count': 0}, 'conversation_id': '1294687080891797504', 'author_id': '1223994797834297350', 'text': 'Ce matin 15 août, ouverture et lancement du «\\xa0Festival de l’Assomption\\xa0» avec une messe solennelle à la Basilique Notre-Dame-du-Cap (secteur Cap-de-la-Madeleine), en hommage aux victimes et aux anges gardiens de la pandémie.@PierreOlivierTr @BlocQuebecois https://t.co/JjLsPJBV26'}, {'id': '1294682926077169665', 'created_at': '2020-08-15T17:10:38.000Z', 'public_metrics': {'retweet_count': 0, 'reply_count': 0, 'like_count': 1, 'quote_count': 0}, 'conversation_id': '1294682926077169665', 'author_id': '1223994797834297350', 'text': 'Coup d’envoi pour la construction d’un nouveau CPE à Trois-Rivières. Premières pelletées de terre hier après-midi avec le ministre et député de Trois-Rivières, Jean Boulet; le dg du CPE Saute-Mouton, Pierre-Philippe Foucher et le conseiller municipal, Pierre Montreuil. https://t.co/6T9jQFC7Sw'}, {'id': '1294678371633422336', 'created_at': '2020-08-15T16:52:32.000Z', 'public_metrics': {'retweet_count': 53, 'reply_count': 0, 'like_count': 0, 'quote_count': 0}, 'conversation_id': '1294678371633422336', 'referenced_tweets': [{'type': 'retweeted', 'id': '1294589655992504320'}], 'author_id': '1223994797834297350', 'text': 'RT @BlocQuebecois: #FêtenationaleAcadie https://t.co/vWQ5UjwUNn'}, {'id': '1294041662189195271', 'created_at': '2020-08-13T22:42:29.000Z', 'public_metrics': {'retweet_count': 28, 'reply_count': 0, 'like_count': 0, 'quote_count': 0}, 'conversation_id': '1294041662189195271', 'referenced_tweets': [{'type': 'retweeted', 'id': '1293940379067338754'}], 'author_id': '1223994797834297350', 'text': 'RT @BlocQuebecois: Commencer fort \\n\\nLe 13 août 1990, @GillesDuceppe devenait le premier élu bloquiste à Ottawa. 💙⚜️💙 \\n\\nPhoto tirée de la Bi…'}, {'id': '1294014610698309632', 'in_reply_to_user_id': '1223994797834297350', 'created_at': '2020-08-13T20:54:59.000Z', 'public_metrics': {'retweet_count': 0, 'reply_count': 0, 'like_count': 1, 'quote_count': 0}, 'conversation_id': '1294013906298576896', 'referenced_tweets': [{'type': 'replied_to', 'id': '1294013906298576896'}], 'author_id': '1223994797834297350', 'text': 'Discussions autour de divers projets avc Cécilia Protz, propriétaire du resto Le Bucafin. @Lebucafin https://t.co/1vlKScF1Pr'}, {'id': '1294013906298576896', 'created_at': '2020-08-13T20:52:11.000Z', 'public_metrics': {'retweet_count': 0, 'reply_count': 1, 'like_count': 0, 'quote_count': 0}, 'conversation_id': '1294013906298576896', 'author_id': '1223994797834297350', 'text': 'Visite chez «\\xa0Le Bucafin\\xa0» cet après-midi. Belle rencontre très enrichissante sur plusieurs projets avec la propriétaire, Cécilia Protz. @Lebucafin'}, {'id': '1294013201953292294', 'created_at': '2020-08-13T20:49:23.000Z', 'public_metrics': {'retweet_count': 0, 'reply_count': 0, 'like_count': 1, 'quote_count': 0}, 'conversation_id': '1294013201953292294', 'author_id': '1223994797834297350', 'text': 'Suite de la journée «\\xa0Le 12 août, j’achète un livre québécois!\\xa0» Hier à la Librairie Poirier et aujourd’hui au tour de la librairie L’Exèdre. #12aoutjacheteunlivrequebecois https://t.co/2vEHYywnzk'}, {'id': '1293767540464848899', 'created_at': '2020-08-13T04:33:13.000Z', 'public_metrics': {'retweet_count': 0, 'reply_count': 0, 'like_count': 3, 'quote_count': 0}, 'conversation_id': '1293767540464848899', 'author_id': '1223994797834297350', 'text': 'Aujourd’hui, on achète un livre québécois! https://t.co/Hqub9XPune'}, {'id': '1293766977035567105', 'created_at': '2020-08-13T04:30:59.000Z', 'public_metrics': {'retweet_count': 15, 'reply_count': 0, 'like_count': 0, 'quote_count': 0}, 'conversation_id': '1293766977035567105', 'referenced_tweets': [{'type': 'retweeted', 'id': '1293540838014955522'}], 'author_id': '1223994797834297350', 'text': 'RT @BlocQuebecois: 12 août : la fête du livre québécois\\n\\nEn achetant les livres québécois, nous contribuons à la vitalité de notre culture…'}, {'id': '1293766804700041217', 'created_at': '2020-08-13T04:30:17.000Z', 'public_metrics': {'retweet_count': 36, 'reply_count': 0, 'like_count': 0, 'quote_count': 0}, 'conversation_id': '1293766804700041217', 'referenced_tweets': [{'type': 'retweeted', 'id': '1293626293372817408'}], 'author_id': '1223994797834297350', 'text': 'RT @BlocQuebecois: Le gouvernement a établi lui-même 4 séances @NosCommunes cet été pour faire face à la crise. Alors qu’il doit répondre à…'}, {'id': '1292591782971281408', 'created_at': '2020-08-09T22:41:10.000Z', 'public_metrics': {'retweet_count': 24, 'reply_count': 0, 'like_count': 0, 'quote_count': 0}, 'conversation_id': '1292591782971281408', 'referenced_tweets': [{'type': 'retweeted', 'id': '1292454602755932160'}], 'author_id': '1223994797834297350', 'text': 'RT @sbergeron: Jrnée intl des peuples autochtones; une occasion, pour le Québec, de souligner une nouvelle fois l’apport capital des 10 nat…'}, {'id': '1291711797582495746', 'created_at': '2020-08-07T12:24:26.000Z', 'public_metrics': {'retweet_count': 35, 'reply_count': 0, 'like_count': 0, 'quote_count': 0}, 'conversation_id': '1291711797582495746', 'referenced_tweets': [{'type': 'retweeted', 'id': '1291047671994748928'}], 'author_id': '1223994797834297350', 'text': 'RT @BlocQuebecois: Le #BlocQc encourage la population à donner à la @CroixRouge_Qc et demande au gouvernement à égaler minimalement les som…'}, {'id': '1291711581986922498', 'created_at': '2020-08-07T12:23:34.000Z', 'public_metrics': {'retweet_count': 37, 'reply_count': 0, 'like_count': 0, 'quote_count': 0}, 'conversation_id': '1291711581986922498', 'referenced_tweets': [{'type': 'retweeted', 'id': '1291512054663262209'}], 'author_id': '1223994797834297350', 'text': 'RT @BlocQuebecois: Le #BlocQc exige 3 actions d’Ottawa:\\n-Imposer des contre-tarifs douaniers\\n-Investir ceux-ci dans la modernisation de l’i…'}, {'id': '1289975764746514439', 'created_at': '2020-08-02T17:26:03.000Z', 'public_metrics': {'retweet_count': 22, 'reply_count': 0, 'like_count': 0, 'quote_count': 0}, 'conversation_id': '1289975764746514439', 'referenced_tweets': [{'type': 'retweeted', 'id': '1289662031675535362'}], 'author_id': '1223994797834297350', 'text': 'RT @sbergeron: «Ce peuple imparfait aurait eu bien des raisons de se refermer et de devenir mesquin. Et pourtant, non. Et il continue à acc…'}, {'id': '1288661452220444675', 'created_at': '2020-07-30T02:23:27.000Z', 'public_metrics': {'retweet_count': 118, 'reply_count': 0, 'like_count': 0, 'quote_count': 0}, 'conversation_id': '1288661452220444675', 'referenced_tweets': [{'type': 'retweeted', 'id': '1288106560431034368'}], 'author_id': '1223994797834297350', 'text': 'RT @yfblanchet: Le @BlocQuebecois est à l’écoute du Québec:\\n• personne ne souhaite réellement d’élections\\n• il faut battre la COVID et rela…', 'context_annotations': [{'domain': {'id': '123', 'name': 'Ongoing News Story', 'description': \"Ongoing News Stories like 'Brexit'\"}, 'entity': {'id': '1220701888179359745', 'name': 'COVID-19'}}]}, {'id': '1287190684324290560', 'created_at': '2020-07-26T00:59:08.000Z', 'public_metrics': {'retweet_count': 113, 'reply_count': 0, 'like_count': 0, 'quote_count': 0}, 'conversation_id': '1287190684324290560', 'referenced_tweets': [{'type': 'retweeted', 'id': '1286729663776202752'}], 'author_id': '1223994797834297350', 'text': 'RT @yfblanchet: Le @BlocQuebecois croit que la seule façon de recentrer l’action de l’État canadien sur la lutte à la COVID et ses effets é…', 'context_annotations': [{'domain': {'id': '123', 'name': 'Ongoing News Story', 'description': \"Ongoing News Stories like 'Brexit'\"}, 'entity': {'id': '1220701888179359745', 'name': 'COVID-19'}}]}, {'id': '1287190638006599681', 'created_at': '2020-07-26T00:58:57.000Z', 'public_metrics': {'retweet_count': 59, 'reply_count': 0, 'like_count': 0, 'quote_count': 0}, 'conversation_id': '1287190638006599681', 'referenced_tweets': [{'type': 'retweeted', 'id': '1286720515856637958'}], 'author_id': '1223994797834297350', 'text': 'RT @BlocQuebecois: Le #BlocQc demande la démission de messieurs @JustinTrudeau et @Bill_Morneau comme premier ministre et ministre des Fina…', 'context_annotations': [{'domain': {'id': '10', 'name': 'Person', 'description': 'Named people in the world like Nelson Mandela'}, 'entity': {'id': '834164697880416257', 'name': 'Justin Trudeau', 'description': 'Canadian Prime Minister Justin Trudeau'}}, {'domain': {'id': '35', 'name': 'Politician', 'description': 'Politicians in the world, like Joe Biden'}, 'entity': {'id': '834164697880416257', 'name': 'Justin Trudeau', 'description': 'Canadian Prime Minister Justin Trudeau'}}]}, {'id': '1287190436294078464', 'created_at': '2020-07-26T00:58:09.000Z', 'public_metrics': {'retweet_count': 84, 'reply_count': 0, 'like_count': 0, 'quote_count': 0}, 'conversation_id': '1287190436294078464', 'referenced_tweets': [{'type': 'retweeted', 'id': '1286760488848826368'}], 'author_id': '1223994797834297350', 'text': 'RT @yfblanchet: Plus de clarté:\\n• nous souhaitons le départ de MM Trudeau et Morneau et le retour à la lutte au COVID\\n• nous demandons au d…', 'context_annotations': [{'domain': {'id': '123', 'name': 'Ongoing News Story', 'description': \"Ongoing News Stories like 'Brexit'\"}, 'entity': {'id': '1220701888179359745', 'name': 'COVID-19'}}]}, {'id': '1287190351724318721', 'created_at': '2020-07-26T00:57:49.000Z', 'public_metrics': {'retweet_count': 34, 'reply_count': 0, 'like_count': 0, 'quote_count': 0}, 'conversation_id': '1287190351724318721', 'referenced_tweets': [{'type': 'retweeted', 'id': '1285353035590492160'}], 'author_id': '1223994797834297350', 'text': 'RT @ChristineNorm: Les délais de traitement en immigration étaient déjà longs, en contexte de crise, ils deviennent intenables pour les fam…'}, {'id': '1287190138875977728', 'created_at': '2020-07-26T00:56:58.000Z', 'public_metrics': {'retweet_count': 91, 'reply_count': 0, 'like_count': 0, 'quote_count': 0}, 'conversation_id': '1287190138875977728', 'referenced_tweets': [{'type': 'retweeted', 'id': '1286979508109602817'}], 'author_id': '1223994797834297350', 'text': 'RT @BlocQuebecois: Nous demandons les démissions de @Bill_Morneau et de @JustinTrudeau.\\n#BlocQc #polcan #polqc https://t.co/uvDhyDNlOE', 'context_annotations': [{'domain': {'id': '10', 'name': 'Person', 'description': 'Named people in the world like Nelson Mandela'}, 'entity': {'id': '834164697880416257', 'name': 'Justin Trudeau', 'description': 'Canadian Prime Minister Justin Trudeau'}}, {'domain': {'id': '35', 'name': 'Politician', 'description': 'Politicians in the world, like Joe Biden'}, 'entity': {'id': '834164697880416257', 'name': 'Justin Trudeau', 'description': 'Canadian Prime Minister Justin Trudeau'}}]}], 'includes': {'users': [{'public_metrics': {'followers_count': 190, 'following_count': 89, 'tweet_count': 73, 'listed_count': 10}, 'username': 'CharbonneauLou5', 'name': 'Charbonneau Louise', 'url': '', 'verified': False, 'created_at': '2020-02-02T15:42:08.000Z', 'id': '1223994797834297350'}]}, 'meta': {'oldest_id': '1287190138875977728', 'newest_id': '1319085046934929410', 'result_count': 30, 'next_token': '7140dibdnow9c7btw3t4lj5dvawk3d7sqcbh3rn6lfe48'}}\n"
     ]
    }
   ],
   "source": [
    "print(aggregate_data[0]) # one tweet"
   ]
  },
  {
   "cell_type": "markdown",
   "id": "d9fa3086",
   "metadata": {},
   "source": [
    "### upload the list of users to the database as json"
   ]
  },
  {
   "cell_type": "code",
   "execution_count": 125,
   "id": "366f54d9",
   "metadata": {},
   "outputs": [
    {
     "name": "stdout",
     "output_type": "stream",
     "text": [
      "200\n",
      "                      id                    name      screen_name\n",
      "0    1223994797834297350      Charbonneau Louise  CharbonneauLou5\n",
      "1    1204044181037101057           Gerald Soroka   GeraldSorokaMP\n",
      "2    1198299741060239360             kyleseeback      kyleseeback\n",
      "3    1192858611879428097       Mike Kelloway, MP     mikekelloway\n",
      "4    1187132490684784642           Louise Chabot   LouiseChabotBQ\n",
      "..                   ...                     ...              ...\n",
      "316             16014404       Stéphane Bergeron        sbergeron\n",
      "317             15810950       Matt Jeneroux, MP         jeneroux\n",
      "318             14538949  Michelle Rempel Garner   MichelleRempel\n",
      "319             14260960          Justin Trudeau    JustinTrudeau\n",
      "320              3358671              Ken Hardie        KenHardie\n",
      "\n",
      "[321 rows x 3 columns]\n",
      "{'id': {'0': 1223994797834297350, '1': 1204044181037101057, '2': 1198299741060239360, '3': 1192858611879428097, '4': 1187132490684784642, '5': 1173429508034220032, '6': 1172345859905871872, '7': 1170770038208565248, '8': 1166717268975333376, '9': 1162219997977960449, '10': 1148197780583849984, '11': 1143342270399373313, '12': 1143229947932229632, '13': 1140090941195325440, '14': 1125543746697924609, '15': 1113280044934340610, '16': 1086084557009575936, '17': 1084856644687679496, '18': 1072606577566183424, '19': 1063494232126689280, '20': 1044738781171961856, '21': 1034798285389737984, '22': 1026225299057389569, '23': 989311745100566529, '24': 955157569894404096, '25': 943174774154498048, '26': 883774859452579840, '27': 876849435820474368, '28': 868245382148521984, '29': 791282631006621696, '30': 767735634438094850, '31': 737359208945844224, '32': 725344850414043136, '33': 720579941184757760, '34': 720083863830069249, '35': 710180898763890688, '36': 4876239438, '37': 4568748862, '38': 4504267216, '39': 4269886099, '40': 4104867797, '41': 4054610843, '42': 4026045455, '43': 3530226858, '44': 3423287925, '45': 3402128080, '46': 3398024471, '47': 3375064758, '48': 3363252329, '49': 3356795013, '50': 3341414159, '51': 3327100054, '52': 3320613061, '53': 3315017505, '54': 3314769865, '55': 3257047456, '56': 3242606862, '57': 3234862179, '58': 3196494064, '59': 3188558830, '60': 3187763194, '61': 3142614406, '62': 3136229996, '63': 3115495914, '64': 3071709259, '65': 3025416359, '66': 2988907684, '67': 2983179809, '68': 2982975394, '69': 2972038637, '70': 2963597856, '71': 2942312619, '72': 2937436849, '73': 2902760530, '74': 2891740872, '75': 2874772780, '76': 2852899113, '77': 2848993491, '78': 2804150911, '79': 2800741820, '80': 2789770741, '81': 2763372632, '82': 2733595406, '83': 2729561810, '84': 2696723713, '85': 2678072299, '86': 2667603834, '87': 2612658385, '88': 2579359027, '89': 2555308646, '90': 2530008414, '91': 2513973205, '92': 2459904061, '93': 2445479707, '94': 2391192848, '95': 2375818352, '96': 2344419362, '97': 2332742508, '98': 2327530022, '99': 2322580746, '100': 2295209034, '101': 2285856702, '102': 2254171724, '103': 2242940071, '104': 2229187188, '105': 2228891196, '106': 2223489614, '107': 2194707954, '108': 2167166754, '109': 2149496034, '110': 1957288050, '111': 1942247293, '112': 1942107584, '113': 1899063048, '114': 1895316878, '115': 1882871270, '116': 1881004363, '117': 1872440785, '118': 1851503720, '119': 1722999380, '120': 1711439305, '121': 1707636642, '122': 1686740173, '123': 1646334073, '124': 1646161106, '125': 1626700808, '126': 1449320024, '127': 1406573892, '128': 1390883714, '129': 1360838234, '130': 1283934079, '131': 1278253171, '132': 1109797962, '133': 1104590774, '134': 1092278966, '135': 1072270926, '136': 1021022461, '137': 1005090338, '138': 1002181382, '139': 964829521, '140': 931397016, '141': 919714903, '142': 912988142, '143': 911471588, '144': 897770628, '145': 833988769, '146': 814078628, '147': 803381983, '148': 743129088, '149': 631988630, '150': 598920180, '151': 593944500, '152': 580114637, '153': 579377522, '154': 564207331, '155': 554809138, '156': 535820788, '157': 524557553, '158': 521630301, '159': 500232993, '160': 494668818, '161': 493488747, '162': 488052222, '163': 480418245, '164': 477327043, '165': 471630602, '166': 439064573, '167': 436087744, '168': 417524720, '169': 417389780, '170': 414218319, '171': 413802355, '172': 412708728, '173': 408072407, '174': 401738614, '175': 382949896, '176': 343059330, '177': 342258692, '178': 335759893, '179': 335361064, '180': 324555383, '181': 321752222, '182': 312759403, '183': 309715967, '184': 302189804, '185': 296553576, '186': 290162716, '187': 284066822, '188': 283226685, '189': 283179858, '190': 282526718, '191': 282274289, '192': 276713213, '193': 276176967, '194': 274831602, '195': 274507495, '196': 274231222, '197': 274042977, '198': 273262205, '199': 272903688, '200': 272617171, '201': 272185225, '202': 272183541, '203': 271959297, '204': 271343342, '205': 271073165, '206': 270570153, '207': 269930134, '208': 268832287, '209': 268528986, '210': 266855812, '211': 262518997, '212': 261772246, '213': 256775505, '214': 256552850, '215': 256360738, '216': 256069692, '217': 253340075, '218': 249221867, '219': 248866864, '220': 245954929, '221': 243709627, '222': 242827267, '223': 240786249, '224': 237281828, '225': 236395551, '226': 235122381, '227': 234550882, '228': 234395010, '229': 232446981, '230': 216469057, '231': 215632349, '232': 212484497, '233': 210565134, '234': 208750527, '235': 205786669, '236': 203132018, '237': 200100603, '238': 196717787, '239': 195820437, '240': 192321697, '241': 176207343, '242': 175259033, '243': 172004509, '244': 171977015, '245': 171115367, '246': 170377354, '247': 165812196, '248': 161748431, '249': 159655782, '250': 158458133, '251': 157152601, '252': 156288226, '253': 140960578, '254': 140252240, '255': 132763075, '256': 129395750, '257': 128997918, '258': 126233342, '259': 122247581, '260': 121343164, '261': 118121295, '262': 112815157, '263': 102563403, '264': 98492817, '265': 85428184, '266': 83508245, '267': 80702644, '268': 80109093, '269': 76143039, '270': 75459502, '271': 68995519, '272': 68452445, '273': 67098611, '274': 65624152, '275': 65061044, '276': 63210367, '277': 61521038, '278': 60916234, '279': 52080359, '280': 49160271, '281': 47692251, '282': 47338701, '283': 45923631, '284': 45848808, '285': 44718864, '286': 43510607, '287': 40550119, '288': 38625077, '289': 38262290, '290': 38100599, '291': 36133644, '292': 35018890, '293': 34606493, '294': 32915303, '295': 29754743, '296': 28804785, '297': 27079065, '298': 25227444, '299': 25127782, '300': 24558868, '301': 24543481, '302': 24171225, '303': 22849568, '304': 21687438, '305': 20199202, '306': 19750015, '307': 19634262, '308': 19557595, '309': 18654401, '310': 17823761, '311': 16279532, '312': 16278177, '313': 16220555, '314': 16189107, '315': 16180205, '316': 16014404, '317': 15810950, '318': 14538949, '319': 14260960, '320': 3358671}, 'name': {'0': 'Charbonneau Louise', '1': 'Gerald Soroka', '2': 'kyleseeback', '3': 'Mike Kelloway, MP', '4': 'Louise Chabot', '5': 'Claude DeBellefeuille', '6': 'Mumilaaq Qaqqaq', '7': 'Annie Koutrakis', '8': 'Jaime Battiste', '9': 'Patrick Weiler', '10': 'Sameer Zuberi 🇨🇦', '11': 'Maninder Sidhu', '12': 'Luc Desilets, député de Rivière-des-Mille-Îles⚜️🎗', '13': 'Ryan Turnbull', '14': 'Marie-Hélène Gaudreau, députée⚜️🎗', '15': 'Jeremy Patzer', '16': 'Alex Ruff', '17': 'Scot Davidson', '18': 'MP Derek Sloan', '19': 'Julie Vignola', '20': 'Greg McLean', '21': 'Chris Lewis MP Essex', '22': 'Dave Epp', '23': 'Philip Lawrence, MP', '24': 'Brad Redekopp MP', '25': 'Richard Martel', '26': 'Doug Shipley', '27': 'Lianne Rood', '28': 'Patricia Lattanzio', '29': 'Marilyn Gladu', '30': 'Simon Marcil ⚜️', '31': 'Bob Benzen 🇨🇦', '32': 'MPIqra Khalid Office', '33': 'Dominic LeBlanc', '34': 'Glen Motz', '35': 'Joël Godin', '36': 'Rosemarie Falk', '37': 'Ziad Aboultaif', '38': 'Monique Pauzé', '39': 'Peter Fonseca 🇨🇦', '40': 'Alain Therrien', '41': 'Rachael Harder', '42': 'Filomena Tassi', '43': 'Terry Dowdall', '44': 'Serge Cormier', '45': 'Marilène Gill ⚜️', '46': 'Marwan Tabbara MP', '47': 'Arnold Viersen, MP', '48': 'Terry Sheehan', '49': 'Gabriel Ste-Marie', '50': 'Ginette Petitpas Taylor', '51': 'MP Pat Finnigan', '52': 'Kevin Waugh', '53': 'Fayçal El-Khoury 🇨🇦', '54': 'Kelly McCauley, MP', '55': 'Ken McDonald', '56': 'Michael McLeod', '57': 'Maxime Blanchette-Joncas', '58': 'Bill Blair', '59': 'Sonia Sidhu', '60': 'Stéphane Lauzon 🇨🇦', '61': 'Diane Lebouthillier', '62': 'Bernard Genereux', '63': 'Martin Shields, MP', '64': 'Raquel Dancho', '65': 'Yves Perron', '66': 'Todd Doherty', '67': \"Jennifer O'Connell\", '68': 'Bob Bratina', '69': 'Michel Boudrias', '70': 'Shannon Stubbs', '71': 'Yves Robillard', '72': 'Shaun Chen', '73': 'Paul (Still physically distancing) Lefebvre', '74': 'Ahmed Hussen', '75': 'Anju Dhillon', '76': 'Carla Qualtrough', '77': 'Jean-Yves Duclos', '78': 'Robert Morrissey', '79': 'Denis Trudel', '80': 'Darrell Samson', '81': 'Kate Young', '82': 'Tracy Gray', '83': 'Bernadette Jordan', '84': 'Bardish Chagger', '85': 'Tim Louis', '86': 'Rajsaini4kitcen', '87': 'Daniel Blaikie', '88': 'Jonathan Wilkinson 🇨🇦', '89': 'Pat Kelly', '90': 'Kristina Michaud', '91': 'Jean Yip', '92': 'Ed Fast', '93': 'Leona Alleslev', '94': 'Yasmin Ratansi MP for Don Valley East', '95': 'Christine Normandin', '96': 'Salma Zahid', '97': \"Ya'ara Saks יערה זקס\", '98': 'Chandra Arya', '99': 'Jim Carr', '100': 'Len Webber, MP', '101': 'David Yurdiga', '102': 'Ron Liepert', '103': 'Pablo Rodriguez', '104': 'Majid Jowhari', '105': 'Ted Falk', '106': 'Michael Chong 🇨🇦', '107': 'Adam Vaughan MP', '108': 'Laurel Collins', '109': 'Michael Cooper, MP', '110': 'Gary Vidal, MP', '111': 'Nate Erskine-Smith', '112': 'Julie Dzerowicz', '113': 'Gary Anandasangaree', '114': 'Ali Ehsassi', '115': 'Marc Miller', '116': 'Emmanuel Dubourg', '117': 'Bob Saroya, MP', '118': 'Ben Lobb', '119': 'Stephanie Kusie', '120': 'Jenica Atwin, MP for Fredericton Députée', '121': 'François-Philippe Champagne (FPC) 🇨🇦', '122': 'Larry Maguire', '123': 'Anthony Housefather', '124': 'Lenore Zann', '125': 'Cathay Wagantall MP', '126': 'Hon. Peter Kent', '127': 'Han Dong', '128': 'Judy Sgro', '129': 'David Lametti', '130': 'Kerry-Lynne Findlay', '131': 'Brad Vis', '132': 'Ron McKinnon', '133': 'Richard Bragdon MP', '134': 'James Cumming', '135': 'Sean Fraser', '136': 'Marty Morantz', '137': 'Patty Hajdu', '138': 'Vance Badawey', '139': 'Mel Arnold MP', '140': 'Randeep S. Sarai', '141': 'William Amos', '142': 'Jody Wilson-Raybould 王州迪 Vancouver Granville', '143': 'Marie-Claude Bibeau', '144': 'Dave MacKenzie', '145': 'Candice Bergen', '146': 'Richard Cannings', '147': 'Alexis Brunelle-Duceppe', '148': 'Francis Drouin', '149': 'Mona Fortier 🇨🇦', '150': 'Ramesh Sangha, MP', '151': 'Peter Fragiskatos', '152': 'Jenny Kwan', '153': 'Lloyd Longfield', '154': 'Michael Kram 🇨🇦', '155': 'XavierBarsalouDuval', '156': 'Scott Duvall', '157': 'Arif Virani', '158': 'Simon-Pierre Savard-Tremblay', '159': 'Churence Rogers, M.P.', '160': 'Maryam Monsef', '161': 'Lawrence MacAulay', '162': 'Sherry Romanado', '163': 'Anita Anand', '164': 'Deb Schulte MP (she/her)', '165': 'Tako van Popta', '166': 'Luc Thériault', '167': 'Wayne Long', '168': 'MFLalonde', '169': 'Chris Bittle', '170': 'Alain Rayes', '171': 'Harjit Sajjan', '172': 'Pierre Paul-Hus', '173': 'Darren Fisher', '174': 'Sylvie Bérubé, députée', '175': 'Julie Dabrusin', '176': 'Eric Melillo', '177': 'Peter Schiefke', '178': 'Leah ProudLakota (she/her)', '179': 'Martin Champoux', '180': 'Dan Mazier', '181': 'John Williamson', '182': 'Marco Mendicino', '183': 'Rhéal Fortin', '184': 'Michael Barrett', '185': \"Erin O'Toole\", '186': 'Dr. Helena Jaczek', '187': 'Warren Steinley', '188': 'Rachel Bendayan', '189': 'Scott Reid', '190': 'Sven Spengemann', '191': 'Rob Morrison', '192': 'Steven Guilbeault @ 🏡', '193': 'MP Lindsay Mathyssen', '194': 'Mark Strahl, MP', '195': 'Irek Kusmierczyk', '196': 'Jack Harris', '197': 'E. Lambropoulos', '198': 'Andréanne Larouche', '199': 'David McGuinty', '200': 'Earl Dreeshen', '201': 'Francesco Sorbara', '202': 'Bruce Stanton MP', '203': 'Phil McColeman', '204': 'Alice Wong', '205': 'Kirsty Duncan', '206': 'John Barlow', '207': 'Karen Vecchio', '208': 'Luc Berthold', '209': 'Tom Kmiec', '210': 'Randall Garrison', '211': 'Kenny Chiu', '212': 'Mario Simard', '213': 'Sean Casey', '214': 'Jamie Schmale', '215': 'Andrew Scheer', '216': 'Alistair MacGregor', '217': 'Jagmeet Singh', '218': 'Alexandra Mendes', '219': 'Marc Dalton MP', '220': 'John McKay', '221': 'Dean Allison', '222': 'pierrepoilievre', '223': 'Yvonne Jones', '224': 'Rob Moore', '225': 'Gagan Sikand', '226': 'Garnett Genuis', '227': 'Dan Vandal', '228': 'Navdeep Bains', '229': 'Kamal Khera', '230': 'Sébastien Lemire', '231': 'Charlie Angus NDP', '232': 'Gord Johns', '233': 'Joël Lightbound', '234': 'Kevin Lamoureux', '235': 'Pam Damoff', '236': 'Chrystia Freeland', '237': 'Francis Scarpaleggia', '238': 'Alexandre Boulerice', '239': 'Tim S. Uppal', '240': 'Karen McCrimmon', '241': 'Bob Zimmer MP', '242': 'Taylor Bachrach', '243': 'MP Scott Aitchison', '244': 'Scott Simms', '245': 'Terry Duguid', '246': 'Anthony Rota', '247': 'Steven MacKinnon, député', '248': 'Mario Beaulieu', '249': 'Marc G. Serré', '250': 'Andy Fillmore, MP', '251': 'Mark Gerretsen 🇨🇦', '252': 'Blaine Calkins', '253': 'KerryDiotte', '254': 'Catherine McKenna 🇨🇦', '255': 'Soraya Martinez Ferrada', '256': 'Mike Lake', '257': 'Jasraj Singh Hallan', '258': 'Larry Bagnell', '259': 'Neil Ellis', '260': 'Rachel Blaney (She/Her)', '261': 'Brenda Shanahan', '262': 'Adam van Koeverden', '263': 'Angelo Iacono', '264': 'Heather McPherson', '265': 'Mark Holland', '266': 'Damien C. Kurek', '267': 'Marc Garneau', '268': \"Chris d'Entremont\", '269': 'Geoff Regan', '270': 'Steven Blaney', '271': 'Cathy McLeod MP', '272': 'David Sweet', '273': 'Paul Manly', '274': 'Hon. Wayne Easter, M.P.', '275': 'Rob Oliphant', '276': 'Colin Carrie', '277': 'Karina Gould', '278': 'Carol Hughes', '279': 'Bryan May', '280': 'Ruby Sahota', '281': 'Yvan Baker, MP', '282': 'Marci Ien', '283': 'Chris Warkentin', '284': 'Greg Fergus', '285': 'James Bezan', '286': 'Anita Vandenbeld', '287': 'Carolyn Bennett', '288': 'Sukh Dhaliwal', '289': 'Yves-F. Blanchet 🎗⚜️', '290': 'John Brassard', '291': 'Gérard Deltell', '292': 'Randy Hoback', '293': 'John Nater', '294': 'James Maloney', '295': 'Mary Ng', '296': 'Kelly Block MP', '297': 'Corey Tochor, MP', '298': 'Mélanie Joly', '299': 'Dr. Hedy Fry', '300': 'Dane Lloyd', '301': 'Eric Duncan', '302': '🇨🇦 Blake Richards 🇨🇦', '303': \"Seamus O'Regan Jr\", '304': 'Gudie Hutchings', '305': 'Omar Alghabra', '306': 'Brian Masse', '307': 'Tony Van Bynen', '308': 'Peter Julian', '309': 'Niki Ashton', '310': 'Matthew Green 🍊📈✊🏾', '311': 'Terry Beech 黃志峰', '312': 'Dan Albas', '313': 'Elizabeth May', '314': 'Don Davies MP', '315': 'Joyce Murray 梅麗喬', '316': 'Stéphane Bergeron', '317': 'Matt Jeneroux, MP', '318': 'Michelle Rempel Garner', '319': 'Justin Trudeau', '320': 'Ken Hardie'}, 'screen_name': {'0': 'CharbonneauLou5', '1': 'GeraldSorokaMP', '2': 'kyleseeback', '3': 'mikekelloway', '4': 'LouiseChabotBQ', '5': 'ClaudeDBF_bq', '6': 'MumilaaqQaqqaq', '7': 'AnnieKoutrakis', '8': 'JaimeBattiste', '9': 'PatrickBWeiler', '10': 'SameerZuberi', '11': 'MSidhuLiberal', '12': 'LucDesiletsBQ', '13': 'TurnbullWhitby', '14': 'MHGaudreauBQ', '15': 'JeremyPatzerMP', '16': 'AlexRuff17', '17': 'ScotDavidsonMP', '18': 'MPDerekSloan', '19': 'JulieVignolaBL', '20': 'GregMcLeanYYC', '21': 'ChrisLewisEssex', '22': 'DaveEppCKL', '23': 'PLawrenceMP', '24': 'BradRedekopp', '25': 'richardmartelpc', '26': 'DougShipleyBSOM', '27': 'Lianne_Rood', '28': 'PatriciaLattan3', '29': 'MarilynGladuSL', '30': 'SimonMarcilQc', '31': 'BobBenzen', '32': 'IqraKhalidMP', '33': 'DLeBlancNB', '34': 'GlenMotz', '35': 'Joelgodinpjc', '36': 'rosemarie_falk', '37': 'ziad_aboultaif', '38': 'm_pauze', '39': 'PeterFonsecaMP', '40': 'ATherrienBQ', '41': 'RachaelHarderMP', '42': 'FilomenaTassi', '43': 'TerryDowdall', '44': 'sergecormierlib', '45': 'GillMarilene', '46': 'marwantabbaramp', '47': 'ArnoldViersen', '48': 'TerrySheehanMP', '49': 'Gabriel_SMarie', '50': 'GinettePT', '51': 'PatFinniganMP', '52': 'KevinWaugh_CPC', '53': 'F_ElKhoury', '54': 'KellyMcCauleyMP', '55': 'McDonald4Avalon', '56': 'MMcLeodNWT', '57': 'BlanchetteMax', '58': 'BillBlair', '59': 'SoniaLiberal', '60': 'stephanelauzon5', '61': 'DiLebouthillier', '62': 'GenereuxBernard', '63': 'MartinBowRiver', '64': 'RaquelDancho', '65': 'yvesperronbq', '66': 'ToddDohertyMP', '67': 'JenOConnell_', '68': 'BobBratina', '69': 'michelboudrias', '70': 'ShannonStubbsMP', '71': 'YRobillardPLC', '72': 'Shaun_Chen', '73': 'LefebvrePaul', '74': 'HonAhmedHussen', '75': 'adhillonDLL', '76': 'CQualtro', '77': 'jyduclos', '78': 'MorrisseyEgmont', '79': 'trudel_denis', '80': 'darrellsamson', '81': 'KateYoungMP', '82': 'TracyGrayKLC', '83': 'BernJordanMP', '84': 'BardishKW', '85': 'TimLouisKitCon', '86': 'RajSaini4KitCen', '87': 'Daniel_Blaikie', '88': 'JonathanWNV', '89': 'PatKelly_MP', '90': 'krimichaudbq', '91': 'JeanYip3', '92': 'HonEdFast', '93': 'LeonaAlleslev', '94': 'Yasmin_Ratansi', '95': 'ChristineNorm', '96': 'SalmaZahid15', '97': 'YaaraSaks', '98': 'AryaCanada', '99': 'jimcarr_wpg', '100': 'Webber4Confed', '101': 'DavidYurdiga', '102': 'RonLiepert', '103': 'pablorodriguez', '104': 'MajidJowhari', '105': 'MPTedFalk', '106': 'MichaelChongMP', '107': 'TOAdamVaughan', '108': 'Laurel_BC', '109': 'Cooper4SAE', '110': 'GaryAVidal', '111': 'beynate', '112': 'JulieDzerowicz', '113': 'gary_srp', '114': 'AliEhsassi', '115': 'MarcMillerVM', '116': 'EmmanuelDubourg', '117': 'BobSaroya', '118': 'BenLobbMP', '119': 'StephanieKusie', '120': 'JenicaAtwin', '121': 'FP_Champagne', '122': 'LarryMaguireMP', '123': 'AHousefather', '124': 'ZannLenore', '125': 'cathayw', '126': 'KentThornhillMP', '127': 'handongontario', '128': 'JudySgroMP', '129': 'DavidLametti', '130': 'KerryLynneFindl', '131': 'BradleyVis', '132': 'RonMcKinnonLib', '133': 'RichardBragdon', '134': 'jameskcumming', '135': 'SeanFraserMP', '136': 'marty_morantz', '137': 'PattyHajdu', '138': 'VBadawey', '139': 'MelArnoldMP', '140': 'randeepssarai', '141': 'WillAAmos', '142': 'Puglaas', '143': 'mclaudebibeau', '144': 'DaveMacKenzieMP', '145': 'CandiceBergenMP', '146': 'CanningsNDP', '147': 'Alduceppe', '148': 'Francis_Drouin', '149': 'MonaFortier', '150': 'sangharamesh', '151': 'pfragiskatos', '152': 'JennyKwanBC', '153': 'LloydLongfield', '154': 'MichaelKramSK', '155': 'XBarsalouDuval', '156': 'sduvall07', '157': 'viraniarif', '158': 'SPSTremblay', '159': 'ChurenceRogers', '160': 'MaryamMonsef', '161': 'L_MacAulay', '162': 'SherryRomanado', '163': 'AnitaOakville', '164': '_DebSchulte', '165': 'takovanpopta', '166': 'luctheriaultbq', '167': 'WayneLongSJ', '168': 'mflalonde', '169': 'Chris_Bittle', '170': 'AlainRayes', '171': 'HarjitSajjan', '172': 'PierrePaulHus', '173': 'DarrenFisherNS', '174': 'BerubeABJNE', '175': 'juliedabrusin', '176': 'Eric_Melillo', '177': 'PeterSchiefke', '178': 'LeahGazan', '179': 'martchampoux', '180': 'MBDan7', '181': 'JohnWilliamson_', '182': 'marcomendicino', '183': 'RhealFortin', '184': 'MikeBarrettON', '185': 'erinotoole', '186': 'HelenaJaczek', '187': 'WarrenSteinley', '188': 'RachelBendayan', '189': 'ScottReidCPC', '190': 'SvenTrueNorth', '191': 'robmorrisonmp', '192': 's_guilbeault', '193': 'LMathys', '194': 'markstrahl', '195': 'Irek_K', '196': 'JackHarrisNDP', '197': 'emlambropoulos', '198': 'A_Larouche_Shef', '199': 'DavidMcGuinty', '200': 'earl_dreeshen', '201': 'fsorbara', '202': 'bruce_stanton', '203': 'Phil4Brant', '204': 'AliceWongCanada', '205': 'KirstyDuncanMP', '206': 'JohnBarlowMP', '207': 'karen_vecchio', '208': 'LucBerthold', '209': 'tomkmiec', '210': 'r_garrison', '211': 'RmdKenny', '212': 'mariosimardbq', '213': 'SeanCaseyLPC', '214': 'Jamie_Schmale', '215': 'AndrewScheer', '216': 'AMacGregor4CML', '217': 'theJagmeetSingh', '218': 'AlexandraBrStL', '219': 'MarcDalton', '220': 'JohnMcKayLib', '221': 'DeanAllisonMP', '222': 'PierrePoilievre', '223': 'YvonneJJones', '224': 'RobMoore_CPC', '225': 'gagansikand', '226': 'GarnettGenuis', '227': 'stbstvdan', '228': 'NavdeepSBains', '229': 'KamalKheraLib', '230': 'seblemire', '231': 'CharlieAngusNDP', '232': 'GordJohns', '233': 'JoelLightbound', '234': 'Kevin_Lamoureux', '235': 'PamDamoff', '236': 'cafreeland', '237': 'ScarpaleggiaLSL', '238': 'alexboulerice', '239': 'TimUppal', '240': 'karenmccrimmon', '241': 'bobzimmermp', '242': 'taylorbachrach', '243': 'ScottAAitchison', '244': 'Scott_Simms', '245': 'TerryDuguid', '246': 'AnthonyRota', '247': 'stevenmackinnon', '248': 'Mario_Beaulieu', '249': 'MarcSerreMP', '250': 'AndyFillmoreHFX', '251': 'MarkGerretsen', '252': 'BlaineFCalkins', '253': 'KerryDiotte', '254': 'cathmckenna', '255': 'SorayaMartinezF', '256': 'MikeLakeMP', '257': 'jasrajshallan', '258': 'LarryBagnell', '259': 'NeilREllis', '260': 'RABlaney', '261': 'BShanahanLib', '262': 'vankayak', '263': 'IaconoMP', '264': 'HMcPhersonMP', '265': 'markhollandlib', '266': 'dckurek', '267': 'MarcGarneau', '268': 'CdEntremontMP', '269': 'geoffregan', '270': 'HonStevenBlaney', '271': 'Cathy_McLeod', '272': 'DavidSweetMP', '273': 'paulmanly', '274': 'WayneEaster', '275': 'Rob_Oliphant', '276': 'ColinCarrieCPC', '277': 'karinagould', '278': 'CarolHughesMP', '279': '_BryanMay', '280': 'rubysahotalib', '281': 'Yvan_Baker', '282': 'MarciIen', '283': 'chriswarkentin', '284': 'GregFergus', '285': 'jamesbezan', '286': 'anitavandenbeld', '287': 'Carolyn_Bennett', '288': 'sukhdhaliwal', '289': 'yfblanchet', '290': 'JohnBrassardCPC', '291': 'gerarddeltell', '292': 'RandyHoback', '293': 'JohnNaterMP', '294': 'j_maloney', '295': 'mary_ng', '296': 'KellyBlockmp', '297': 'ctochor', '298': 'melaniejoly', '299': 'HedyFry', '300': 'DaneLIoydMP', '301': 'EricDuncanSDSG', '302': 'BlakeRichardsMP', '303': 'SeamusORegan', '304': 'Gudie', '305': 'OmarAlghabra', '306': 'BrianMasseMP', '307': 'TonyVanBynen', '308': 'MPJulian', '309': 'nikiashton', '310': 'MatthewGreenNDP', '311': 'terrybeech', '312': 'DanAlbas', '313': 'ElizabethMay', '314': 'DonDavies', '315': 'JoyceMurray', '316': 'sbergeron', '317': 'jeneroux', '318': 'MichelleRempel', '319': 'JustinTrudeau', '320': 'KenHardie'}, 'date': '2021-08-01'}\n"
     ]
    }
   ],
   "source": [
    "user_list = user_list() # get dataframe\n",
    "user_list = user_list.to_json() # make it json\n",
    "user_list = json.loads(user_list)\n",
    "user_list['date'] = str(date.today()) # add the date of collection\n",
    "\n",
    "print(user_list)"
   ]
  },
  {
   "cell_type": "markdown",
   "id": "ad11c571",
   "metadata": {},
   "source": [
    "#### Single Tweet Request for Testing"
   ]
  },
  {
   "cell_type": "code",
   "execution_count": 73,
   "id": "2ee9ca06",
   "metadata": {},
   "outputs": [
    {
     "name": "stdout",
     "output_type": "stream",
     "text": [
      "https://api.twitter.com/2/users/256069692/tweets?expansions=author_id&tweet.fields=created_at,author_id,conversation_id,entities,in_reply_to_user_id,referenced_tweets,text,public_metrics&user.fields=username,public_metrics,verified,url,id&max_results=30\n",
      "200\n"
     ]
    }
   ],
   "source": [
    "tweet_fields = 'created_at,author_id,conversation_id,entities,in_reply_to_user_id,referenced_tweets,text,public_metrics'\n",
    "# 'id,created_at,author_id,created_at,conversation_id,lang,entities,in_reply_to_user_id,referenced_tweets,text,public_metrics'  \n",
    "user_fields = 'username,public_metrics,verified,url,id'\n",
    "expansions = 'author_id'\n",
    "max_results = '30'\n",
    "\n",
    "# Michelle Rempel Garner\n",
    "single_user = 256069692\n",
    "\n",
    "# the user request url\n",
    "single_url = \"https://api.twitter.com/2/users/{}/tweets?expansions={}&tweet.fields={}&user.fields={}&max_results={}\".format(single_user,expansions,tweet_fields,user_fields,max_results)\n",
    "\n",
    "print(single_url)\n",
    "\n",
    "single_response = main(single_url)"
   ]
  },
  {
   "cell_type": "code",
   "execution_count": 77,
   "id": "72958a9c",
   "metadata": {},
   "outputs": [
    {
     "name": "stdout",
     "output_type": "stream",
     "text": [
      "{'data': [{'id': '1421983432830115843', 'created_at': '2021-08-01T23:57:24.000Z', 'entities': {'mentions': [{'start': 0, 'end': 9, 'username': 'K_elly_B', 'id': '378826663'}], 'annotations': [{'start': 44, 'end': 50, 'probability': 0.9746, 'type': 'Person', 'normalized_text': 'Trudeau'}]}, 'conversation_id': '1421982750702145541', 'in_reply_to_user_id': '378826663', 'text': '@K_elly_B I think to highlight that this is Trudeau’s call and his alone.\\n\\nOnce campaign starts, messaging will shift gears.', 'referenced_tweets': [{'type': 'replied_to', 'id': '1421982750702145541'}], 'public_metrics': {'retweet_count': 0, 'reply_count': 1, 'like_count': 1, 'quote_count': 0}, 'author_id': '256069692'}, {'id': '1421949439615193093', 'created_at': '2021-08-01T21:42:19.000Z', 'conversation_id': '1421949439615193093', 'text': 'It’s not a fall election if E-Day is before September 21st. \\n\\nPlease adjust your headlines accordingly.\\n\\nThanks.', 'public_metrics': {'retweet_count': 2, 'reply_count': 2, 'like_count': 30, 'quote_count': 0}, 'author_id': '256069692', 'entities': {'annotations': [{'start': 28, 'end': 32, 'probability': 0.5369, 'type': 'Person', 'normalized_text': 'E-Day'}]}}, {'id': '1421935418358915072', 'created_at': '2021-08-01T20:46:36.000Z', 'entities': {'hashtags': [{'start': 30, 'end': 46, 'tag': 'EmancipationDay'}, {'start': 111, 'end': 127, 'tag': 'EmancipationDay'}], 'mentions': [{'start': 3, 'end': 19, 'username': 'theJagmeetSingh', 'id': '253340075'}], 'annotations': [{'start': 62, 'end': 67, 'probability': 0.9866, 'type': 'Place', 'normalized_text': 'Canada'}]}, 'conversation_id': '1421935418358915072', 'text': \"RT @theJagmeetSingh: Today on #EmancipationDay, we reflect on Canada's very real connection to slavery.\\n\\nWhile #EmancipationDay marks the h…\", 'referenced_tweets': [{'type': 'retweeted', 'id': '1421852613545496576'}], 'public_metrics': {'retweet_count': 193, 'reply_count': 0, 'like_count': 0, 'quote_count': 0}, 'author_id': '256069692'}, {'id': '1421934824101580802', 'created_at': '2021-08-01T20:44:14.000Z', 'entities': {'mentions': [{'start': 3, 'end': 10, 'username': 'acoyne', 'id': '3079986094'}], 'annotations': [{'start': 12, 'end': 23, 'probability': 0.9005, 'type': 'Person', 'normalized_text': 'Erin O’Toole'}, {'start': 84, 'end': 96, 'probability': 0.6698, 'type': 'Organization', 'normalized_text': 'Conservatives'}]}, 'conversation_id': '1421934824101580802', 'text': 'RT @acoyne: Erin O’Toole approaches an election with a party so fractured that some Conservatives want him to lose - The Star https://t.co/…', 'referenced_tweets': [{'type': 'retweeted', 'id': '1421921237329190916'}], 'public_metrics': {'retweet_count': 24, 'reply_count': 0, 'like_count': 0, 'quote_count': 0}, 'author_id': '256069692'}, {'id': '1421933128537436161', 'created_at': '2021-08-01T20:37:30.000Z', 'entities': {'hashtags': [{'start': 11, 'end': 18, 'tag': 'elxn44'}, {'start': 158, 'end': 162, 'tag': 'NDP'}], 'urls': [{'start': 281, 'end': 304, 'url': 'https://t.co/P4rnuQPoS6', 'expanded_url': 'https://twitter.com/AMacGregor4CML/status/1421933128537436161/photo/1', 'display_url': 'pic.twitter.com/P4rnuQPoS6'}], 'annotations': [{'start': 171, 'end': 178, 'probability': 0.5709, 'type': 'Place', 'normalized_text': 'Cowichan'}, {'start': 252, 'end': 262, 'probability': 0.9028, 'type': 'Person', 'normalized_text': 'Jack Layton'}]}, 'conversation_id': '1421933128537436161', 'text': 'Looks like #elxn44 rumours ramping up, with a possible call in next two weeks.\\n\\nNot an election I want, but I do love campaigning and am thankful for amazing #NDP team in Cowichan-Malahat-Langford.\\n\\nBroke my toe last week, so time to channel some 2011 Jack Layton campaign energy! https://t.co/P4rnuQPoS6', 'public_metrics': {'retweet_count': 5, 'reply_count': 3, 'like_count': 35, 'quote_count': 0}, 'author_id': '256069692'}, {'id': '1421931772221132801', 'created_at': '2021-08-01T20:32:07.000Z', 'entities': {'hashtags': [{'start': 81, 'end': 97, 'tag': 'EmancipationDay'}], 'mentions': [{'start': 3, 'end': 19, 'username': 'MatthewGreenNDP', 'id': '17823761'}]}, 'conversation_id': '1421931772221132801', 'text': 'RT @MatthewGreenNDP: 9 months ago, I rose in the House to deliver this speech on #EmancipationDay and Black Liberation. \\n\\nAnd while today C…', 'referenced_tweets': [{'type': 'retweeted', 'id': '1421835069849735173'}], 'public_metrics': {'retweet_count': 175, 'reply_count': 0, 'like_count': 0, 'quote_count': 0}, 'author_id': '256069692'}, {'id': '1421931185467400194', 'created_at': '2021-08-01T20:29:47.000Z', 'conversation_id': '1421931185467400194', 'text': 'Those are my people too!\\n\\nConservatives for workers… yeah I’m sure foxes would say they’re for chickens if given the chance. https://t.co/Rzx7PqbpYB', 'referenced_tweets': [{'type': 'quoted', 'id': '1421909742130106370'}], 'public_metrics': {'retweet_count': 2, 'reply_count': 1, 'like_count': 17, 'quote_count': 1}, 'entities': {'urls': [{'start': 125, 'end': 148, 'url': 'https://t.co/Rzx7PqbpYB', 'expanded_url': 'https://twitter.com/davegorst/status/1421909742130106370', 'display_url': 'twitter.com/davegorst/stat…'}]}, 'author_id': '256069692'}, {'id': '1421909316605407232', 'created_at': '2021-08-01T19:02:53.000Z', 'entities': {'mentions': [{'start': 0, 'end': 15, 'username': 'KristinRaworth', 'id': '18774566'}], 'urls': [{'start': 57, 'end': 80, 'url': 'https://t.co/74T49Qy0NW', 'expanded_url': 'https://twitter.com/AMacGregor4CML/status/1421909316605407232/photo/1', 'display_url': 'pic.twitter.com/74T49Qy0NW'}]}, 'conversation_id': '1421875086521339905', 'in_reply_to_user_id': '18774566', 'text': '@KristinRaworth It’s been ten years since the last book! https://t.co/74T49Qy0NW', 'referenced_tweets': [{'type': 'replied_to', 'id': '1421875086521339905'}], 'public_metrics': {'retweet_count': 0, 'reply_count': 0, 'like_count': 1, 'quote_count': 0}, 'author_id': '256069692'}, {'id': '1421847184190820362', 'created_at': '2021-08-01T14:56:00.000Z', 'entities': {'mentions': [{'start': 3, 'end': 16, 'username': 'LeifRLJensen', 'id': '606872838'}]}, 'conversation_id': '1421847184190820362', 'text': 'RT @LeifRLJensen: Went from \"5 years\" in 2015 to \"the next generation\" in 2021', 'referenced_tweets': [{'type': 'retweeted', 'id': '1421241125889667073'}], 'public_metrics': {'retweet_count': 39, 'reply_count': 0, 'like_count': 0, 'quote_count': 0}, 'author_id': '256069692'}, {'id': '1421697825738350597', 'created_at': '2021-08-01T05:02:30.000Z', 'entities': {'mentions': [{'start': 23, 'end': 39, 'username': 'CowicClimateHub', 'id': '1404619025179574275'}], 'urls': [{'start': 63, 'end': 86, 'url': 'https://t.co/VtTTvdeUbJ', 'expanded_url': 'https://twitter.com/AMacGregor4CML/status/1421697825738350597/photo/1', 'display_url': 'pic.twitter.com/VtTTvdeUbJ'}, {'start': 87, 'end': 110, 'url': 'https://t.co/BFHDiAaNzJ', 'expanded_url': 'https://twitter.com/cowicclimatehub/status/1421260996757180416', 'display_url': 'twitter.com/cowicclimatehu…'}]}, 'conversation_id': '1421697825738350597', 'text': 'Thanks for organizing, @CowicClimateHub!\\nAnd here’s the proof: https://t.co/VtTTvdeUbJ https://t.co/BFHDiAaNzJ', 'referenced_tweets': [{'type': 'quoted', 'id': '1421260996757180416'}], 'public_metrics': {'retweet_count': 1, 'reply_count': 0, 'like_count': 11, 'quote_count': 3}, 'author_id': '256069692'}, {'id': '1421628121497800704', 'created_at': '2021-08-01T00:25:31.000Z', 'conversation_id': '1421628121497800704', 'text': 'We could see an election launched by the Liberals next month.\\n\\nWe’ve already got signs, volunteers are signing up, and I’m so thankful to those who have donated to our local campaign.\\n\\nWe’ve got a new website to make it easier to do all three:\\n\\nhttps://t.co/w7Q2NkOkJ3', 'public_metrics': {'retweet_count': 6, 'reply_count': 0, 'like_count': 29, 'quote_count': 1}, 'entities': {'urls': [{'start': 245, 'end': 268, 'url': 'https://t.co/w7Q2NkOkJ3', 'expanded_url': 'https://alistairmacgregor2021.ndp.ca', 'display_url': 'alistairmacgregor2021.ndp.ca'}], 'annotations': [{'start': 41, 'end': 48, 'probability': 0.372, 'type': 'Organization', 'normalized_text': 'Liberals'}]}, 'author_id': '256069692'}, {'id': '1421618304838373381', 'created_at': '2021-07-31T23:46:30.000Z', 'entities': {'hashtags': [{'start': 42, 'end': 50, 'tag': 'covid19'}, {'start': 87, 'end': 91, 'tag': 'ndp'}], 'mentions': [{'start': 3, 'end': 12, 'username': 'MPJulian', 'id': '19557595'}, {'start': 60, 'end': 76, 'username': 'theJagmeetSingh', 'id': '253340075'}]}, 'conversation_id': '1421618304838373381', 'text': 'RT @MPJulian: From the first hours of the #covid19 pandemic @theJagmeetSingh &amp; the #ndp were relentlessly focused on the needs of people.…', 'referenced_tweets': [{'type': 'retweeted', 'id': '1421521767001059331'}], 'public_metrics': {'retweet_count': 39, 'reply_count': 0, 'like_count': 0, 'quote_count': 0}, 'author_id': '256069692'}, {'id': '1420873181351464961', 'created_at': '2021-07-29T22:25:39.000Z', 'conversation_id': '1420873181351464961', 'text': 'This is such complete and utter B.S. \\n\\nA completely false narrative woven to justify a crass election call in a few weeks’ time. https://t.co/1iX4K4nETe', 'referenced_tweets': [{'type': 'quoted', 'id': '1420523935276302341'}], 'public_metrics': {'retweet_count': 30, 'reply_count': 18, 'like_count': 165, 'quote_count': 5}, 'entities': {'urls': [{'start': 129, 'end': 152, 'url': 'https://t.co/1iX4K4nETe', 'expanded_url': 'https://twitter.com/punditclass/status/1420523935276302341', 'display_url': 'twitter.com/punditclass/st…'}]}, 'author_id': '256069692'}, {'id': '1420862864277999617', 'created_at': '2021-07-29T21:44:39.000Z', 'conversation_id': '1420862864277999617', 'text': 'Looking forward to it! https://t.co/yemOAXxMql', 'referenced_tweets': [{'type': 'quoted', 'id': '1420492148290502656'}], 'public_metrics': {'retweet_count': 2, 'reply_count': 1, 'like_count': 3, 'quote_count': 0}, 'entities': {'urls': [{'start': 23, 'end': 46, 'url': 'https://t.co/yemOAXxMql', 'expanded_url': 'https://twitter.com/350Canada/status/1420492148290502656', 'display_url': 'twitter.com/350Canada/stat…'}]}, 'author_id': '256069692'}, {'id': '1420832960748478465', 'created_at': '2021-07-29T19:45:50.000Z', 'entities': {'mentions': [{'start': 0, 'end': 10, 'username': 'TomPark1n', 'id': '1964734532'}]}, 'conversation_id': '1420792283390222345', 'in_reply_to_user_id': '1964734532', 'text': '@TomPark1n Those are definitely risky odds.', 'referenced_tweets': [{'type': 'replied_to', 'id': '1420792283390222345'}], 'public_metrics': {'retweet_count': 0, 'reply_count': 0, 'like_count': 0, 'quote_count': 0}, 'author_id': '256069692'}, {'id': '1420828969603977216', 'created_at': '2021-07-29T19:29:58.000Z', 'entities': {'mentions': [{'start': 30, 'end': 46, 'username': 'theJagmeetSingh', 'id': '253340075'}], 'urls': [{'start': 48, 'end': 71, 'url': 'https://t.co/QsSMROhIMQ', 'expanded_url': 'https://twitter.com/canadianpolling/status/1420766644616499205', 'display_url': 'twitter.com/canadianpollin…'}]}, 'conversation_id': '1420828969603977216', 'text': 'I would love serving under PM @theJagmeetSingh! https://t.co/QsSMROhIMQ', 'referenced_tweets': [{'type': 'quoted', 'id': '1420766644616499205'}], 'public_metrics': {'retweet_count': 12, 'reply_count': 8, 'like_count': 56, 'quote_count': 3}, 'author_id': '256069692'}, {'id': '1420808950283325443', 'created_at': '2021-07-29T18:10:25.000Z', 'entities': {'mentions': [{'start': 0, 'end': 14, 'username': 'allkimstweets', 'id': '1678630532'}, {'start': 15, 'end': 29, 'username': 'GreenNickVert', 'id': '1405037853579436035'}, {'start': 30, 'end': 46, 'username': 'IslandSalishSea', 'id': '2445767378'}, {'start': 47, 'end': 62, 'username': 'CanadianGreens', 'id': '28370071'}, {'start': 63, 'end': 75, 'username': 'AnnamiePaul', 'id': '1156560530594832390'}, {'start': 106, 'end': 115, 'username': 'MPJulian', 'id': '19557595'}]}, 'conversation_id': '1420803524800118785', 'in_reply_to_user_id': '256069692', 'text': '@allkimstweets @GreenNickVert @IslandSalishSea @CanadianGreens @AnnamiePaul I also have to give credit to @MPJulian, who introduced legislation in the last parliament to allow civil claims in Canadian courts for violations abroad.', 'referenced_tweets': [{'type': 'replied_to', 'id': '1420808266095857665'}], 'public_metrics': {'retweet_count': 2, 'reply_count': 0, 'like_count': 4, 'quote_count': 0}, 'author_id': '256069692'}, {'id': '1420808266095857665', 'created_at': '2021-07-29T18:07:42.000Z', 'entities': {'mentions': [{'start': 0, 'end': 14, 'username': 'allkimstweets', 'id': '1678630532'}, {'start': 15, 'end': 29, 'username': 'GreenNickVert', 'id': '1405037853579436035'}, {'start': 30, 'end': 46, 'username': 'IslandSalishSea', 'id': '2445767378'}, {'start': 47, 'end': 62, 'username': 'CanadianGreens', 'id': '28370071'}, {'start': 63, 'end': 75, 'username': 'AnnamiePaul', 'id': '1156560530594832390'}], 'annotations': [{'start': 161, 'end': 163, 'probability': 0.7375, 'type': 'Organization', 'normalized_text': 'CPP'}]}, 'conversation_id': '1420803524800118785', 'in_reply_to_user_id': '1678630532', 'text': '@allkimstweets @GreenNickVert @IslandSalishSea @CanadianGreens @AnnamiePaul I’d love to explore this idea further! I did introduce legislation to change how our CPP was invested, to take into account human, labour, and environmental rights’ violations by companies, but I think we can go further.', 'referenced_tweets': [{'type': 'replied_to', 'id': '1420803524800118785'}], 'public_metrics': {'retweet_count': 0, 'reply_count': 1, 'like_count': 5, 'quote_count': 0}, 'author_id': '256069692'}, {'id': '1420775042384744450', 'created_at': '2021-07-29T15:55:41.000Z', 'entities': {'hashtags': [{'start': 64, 'end': 82, 'tag': 'EarthOvershootDay'}], 'mentions': [{'start': 3, 'end': 18, 'username': 'shailenepanylo', 'id': '574803785'}]}, 'conversation_id': '1420775042384744450', 'text': 'RT @shailenepanylo: This should bother you.\\nToday is July 29th, #EarthOvershootDay. \\n\\nWe’ve already surpassed what can be sustainably regen…', 'referenced_tweets': [{'type': 'retweeted', 'id': '1420740175274123266'}], 'public_metrics': {'retweet_count': 10, 'reply_count': 0, 'like_count': 0, 'quote_count': 0}, 'author_id': '256069692'}, {'id': '1420773710701625346', 'created_at': '2021-07-29T15:50:23.000Z', 'entities': {'mentions': [{'start': 0, 'end': 13, 'username': 'danharrisndp', 'id': '280831905'}]}, 'conversation_id': '1420734198986461190', 'in_reply_to_user_id': '280831905', 'text': '@danharrisndp Yes, we need to be calm and stick to our campaign plan.', 'referenced_tweets': [{'type': 'replied_to', 'id': '1420773433760174083'}], 'public_metrics': {'retweet_count': 1, 'reply_count': 1, 'like_count': 4, 'quote_count': 0}, 'author_id': '256069692'}, {'id': '1420772439009546246', 'created_at': '2021-07-29T15:45:20.000Z', 'entities': {'mentions': [{'start': 3, 'end': 19, 'username': 'CharlieAngusNDP', 'id': '215632349'}, {'start': 55, 'end': 71, 'username': 'Carolyn_Bennett', 'id': '40550119'}], 'annotations': [{'start': 116, 'end': 130, 'probability': 0.3363, 'type': 'Organization', 'normalized_text': 'Catholic Church'}]}, 'conversation_id': '1420772439009546246', 'text': 'RT @CharlieAngusNDP: It has been 5 years since I asked @Carolyn_Bennett to look into the backroom deal that let the Catholic Church to walk…', 'referenced_tweets': [{'type': 'retweeted', 'id': '1420712151262584833'}], 'public_metrics': {'retweet_count': 202, 'reply_count': 0, 'like_count': 0, 'quote_count': 0}, 'author_id': '256069692'}, {'id': '1420772279567327232', 'created_at': '2021-07-29T15:44:42.000Z', 'entities': {'mentions': [{'start': 0, 'end': 13, 'username': 'danharrisndp', 'id': '280831905'}], 'annotations': [{'start': 30, 'end': 36, 'probability': 0.768, 'type': 'Person', 'normalized_text': 'Trudeau'}]}, 'conversation_id': '1420734198986461190', 'in_reply_to_user_id': '280831905', 'text': '@danharrisndp The Liberal and Trudeau fervour is truly something to behold when it’s cranked to 11.\\n\\nI think they see us coming 😁', 'referenced_tweets': [{'type': 'replied_to', 'id': '1420734198986461190'}], 'public_metrics': {'retweet_count': 1, 'reply_count': 1, 'like_count': 3, 'quote_count': 0}, 'author_id': '256069692'}, {'id': '1420398396007845891', 'created_at': '2021-07-28T14:59:01.000Z', 'conversation_id': '1420398396007845891', 'text': 'The fact that so many Conservatives are staring wistfully at and tweeting about former PM Harper shows the real state of the party these days. https://t.co/hkGEtmHkWT', 'referenced_tweets': [{'type': 'quoted', 'id': '1420359792678277120'}], 'public_metrics': {'retweet_count': 2, 'reply_count': 1, 'like_count': 4, 'quote_count': 0}, 'entities': {'urls': [{'start': 143, 'end': 166, 'url': 'https://t.co/hkGEtmHkWT', 'expanded_url': 'https://twitter.com/traceyram/status/1420359792678277120', 'display_url': 'twitter.com/traceyram/stat…'}], 'annotations': [{'start': 22, 'end': 34, 'probability': 0.6544, 'type': 'Organization', 'normalized_text': 'Conservatives'}, {'start': 87, 'end': 95, 'probability': 0.8735, 'type': 'Person', 'normalized_text': 'PM Harper'}]}, 'author_id': '256069692'}, {'id': '1420237848872062980', 'created_at': '2021-07-28T04:21:04.000Z', 'entities': {'mentions': [{'start': 3, 'end': 19, 'username': 'theJagmeetSingh', 'id': '253340075'}]}, 'conversation_id': '1420237848872062980', 'text': 'RT @theJagmeetSingh: Yesterday, I visited Neskantaga First Nation where people have been living without clean drinking water for 26 years.…', 'referenced_tweets': [{'type': 'retweeted', 'id': '1420148480299913221'}], 'public_metrics': {'retweet_count': 395, 'reply_count': 0, 'like_count': 0, 'quote_count': 0}, 'author_id': '256069692'}, {'id': '1420237451822465024', 'created_at': '2021-07-28T04:19:29.000Z', 'entities': {'mentions': [{'start': 3, 'end': 15, 'username': 'Agproudmary', 'id': '507236910'}]}, 'conversation_id': '1420237451822465024', 'text': 'RT @Agproudmary: A picture is worth more than a thousand words. For ppl outside not familiar with farming, just try to imagine what this me…', 'referenced_tweets': [{'type': 'retweeted', 'id': '1420051011314540545'}], 'public_metrics': {'retweet_count': 9, 'reply_count': 0, 'like_count': 0, 'quote_count': 0}, 'author_id': '256069692'}, {'id': '1420236150342443008', 'created_at': '2021-07-28T04:14:19.000Z', 'entities': {'mentions': [{'start': 3, 'end': 7, 'username': 'NDP', 'id': '188007231'}], 'annotations': [{'start': 10, 'end': 14, 'probability': 0.9073, 'type': 'Person', 'normalized_text': 'Singh'}, {'start': 30, 'end': 36, 'probability': 0.9521, 'type': 'Person', 'normalized_text': 'Trudeau'}, {'start': 78, 'end': 84, 'probability': 0.4882, 'type': 'Person', 'normalized_text': 'O’Toole'}, {'start': 100, 'end': 106, 'probability': 0.9379, 'type': 'Person', 'normalized_text': 'Trudeau'}]}, 'conversation_id': '1420236150342443008', 'text': 'RT @NDP: \"Singh is everything Trudeau is not, in an interesting way — the way O’Toole is everything Trudeau is not, in an uninteresting way…', 'referenced_tweets': [{'type': 'retweeted', 'id': '1420142256607084553'}], 'public_metrics': {'retweet_count': 55, 'reply_count': 0, 'like_count': 0, 'quote_count': 0}, 'author_id': '256069692'}, {'id': '1419676712003014661', 'created_at': '2021-07-26T15:11:19.000Z', 'entities': {'mentions': [{'start': 3, 'end': 19, 'username': 'theJagmeetSingh', 'id': '253340075'}]}, 'conversation_id': '1419676712003014661', 'text': 'RT @theJagmeetSingh: Violence is not the answer to solving our nation-wide housing crisis.\\n\\nForceful displacement of people by police is wr…', 'referenced_tweets': [{'type': 'retweeted', 'id': '1418617476259237896'}], 'public_metrics': {'retweet_count': 795, 'reply_count': 0, 'like_count': 0, 'quote_count': 0}, 'author_id': '256069692'}, {'id': '1419669099773239311', 'created_at': '2021-07-26T14:41:04.000Z', 'entities': {'mentions': [{'start': 3, 'end': 13, 'username': 'TomPark1n', 'id': '1964734532'}], 'annotations': [{'start': 20, 'end': 30, 'probability': 0.3662, 'type': 'Organization', 'normalized_text': 'Liberal MPs'}]}, 'conversation_id': '1419669099773239311', 'text': 'RT @TomPark1n: When Liberal MPs say parliament is toxic and dysfunctional they mean they wish parliament had no powers to make government a…', 'referenced_tweets': [{'type': 'retweeted', 'id': '1419614754809815043'}], 'public_metrics': {'retweet_count': 173, 'reply_count': 0, 'like_count': 0, 'quote_count': 0}, 'author_id': '256069692'}, {'id': '1419527497780064259', 'created_at': '2021-07-26T05:18:23.000Z', 'entities': {'mentions': [{'start': 3, 'end': 14, 'username': 'Mikeggibbs', 'id': '90732175'}], 'annotations': [{'start': 35, 'end': 46, 'probability': 0.9943, 'type': 'Person', 'normalized_text': \"Erin O'Toole\"}]}, 'conversation_id': '1419527497780064259', 'text': \"RT @Mikeggibbs: He doesn't mention Erin O'Toole ONCE.\\n\\nThis is a leadership campaign ad.\", 'referenced_tweets': [{'type': 'retweeted', 'id': '1419411260425310210'}], 'public_metrics': {'retweet_count': 19, 'reply_count': 0, 'like_count': 0, 'quote_count': 0}, 'author_id': '256069692'}, {'id': '1419460479898951681', 'created_at': '2021-07-26T00:52:05.000Z', 'conversation_id': '1419460479898951681', 'text': 'So fragile. https://t.co/YV7zxYTxON', 'referenced_tweets': [{'type': 'quoted', 'id': '1419437557490896898'}], 'public_metrics': {'retweet_count': 13, 'reply_count': 10, 'like_count': 98, 'quote_count': 1}, 'entities': {'urls': [{'start': 12, 'end': 35, 'url': 'https://t.co/YV7zxYTxON', 'expanded_url': 'https://twitter.com/jkenney/status/1419437557490896898', 'display_url': 'twitter.com/jkenney/status…'}]}, 'author_id': '256069692'}], 'includes': {'users': [{'public_metrics': {'followers_count': 4124, 'following_count': 1645, 'tweet_count': 4947, 'listed_count': 142}, 'id': '256069692', 'url': 'https://t.co/PCrohtpbkK', 'name': 'Alistair MacGregor', 'username': 'AMacGregor4CML', 'verified': True}]}, 'meta': {'oldest_id': '1419460479898951681', 'newest_id': '1421983432830115843', 'result_count': 30, 'next_token': '7140dibdnow9c7btw3z17c8j3qra4rlidr3p8ja9db3n5'}}\n",
      "<class 'dict'>\n"
     ]
    }
   ],
   "source": [
    "print(single_response)\n",
    "print(type(single_response))"
   ]
  },
  {
   "cell_type": "code",
   "execution_count": 82,
   "id": "9d318dc8",
   "metadata": {},
   "outputs": [
    {
     "name": "stdout",
     "output_type": "stream",
     "text": [
      "{'id': '1421983432830115843', 'created_at': '2021-08-01T23:57:24.000Z', 'entities': {'mentions': [{'start': 0, 'end': 9, 'username': 'K_elly_B', 'id': '378826663'}], 'annotations': [{'start': 44, 'end': 50, 'probability': 0.9746, 'type': 'Person', 'normalized_text': 'Trudeau'}]}, 'conversation_id': '1421982750702145541', 'in_reply_to_user_id': '378826663', 'text': '@K_elly_B I think to highlight that this is Trudeau’s call and his alone.\\n\\nOnce campaign starts, messaging will shift gears.', 'referenced_tweets': [{'type': 'replied_to', 'id': '1421982750702145541'}], 'public_metrics': {'retweet_count': 0, 'reply_count': 1, 'like_count': 1, 'quote_count': 0}, 'author_id': '256069692'}\n"
     ]
    }
   ],
   "source": [
    "print(single_response['data'][0]) # each value in the list is a tweet - loop through all 30 to take the goods"
   ]
  },
  {
   "cell_type": "markdown",
   "id": "f979682d",
   "metadata": {},
   "source": [
    "## ignore this ending part"
   ]
  },
  {
   "cell_type": "code",
   "execution_count": 87,
   "id": "3a6d9526",
   "metadata": {},
   "outputs": [],
   "source": [
    "first_tweet = single_response['data'][0]\n",
    "\n",
    "first_tweet_id = int(first_tweet['author_id'])\n",
    "\n",
    "author = user_list.loc[user_list['id'] == first_tweet_id]"
   ]
  },
  {
   "cell_type": "code",
   "execution_count": 92,
   "id": "978e2fd0",
   "metadata": {},
   "outputs": [
    {
     "name": "stdout",
     "output_type": "stream",
     "text": [
      "            id                name     screen_name\n",
      "216  256069692  Alistair MacGregor  AMacGregor4CML\n"
     ]
    }
   ],
   "source": [
    "print(author)"
   ]
  },
  {
   "cell_type": "code",
   "execution_count": 94,
   "id": "b3e5820a",
   "metadata": {},
   "outputs": [],
   "source": [
    "single_response_with_auth = single_response\n",
    "\n",
    "single_response_with_auth['author_name'] = author['name']"
   ]
  },
  {
   "cell_type": "code",
   "execution_count": null,
   "id": "d3ccc026",
   "metadata": {},
   "outputs": [],
   "source": []
  }
 ],
 "metadata": {
  "kernelspec": {
   "display_name": "Python 3",
   "language": "python",
   "name": "python3"
  },
  "language_info": {
   "codemirror_mode": {
    "name": "ipython",
    "version": 3
   },
   "file_extension": ".py",
   "mimetype": "text/x-python",
   "name": "python",
   "nbconvert_exporter": "python",
   "pygments_lexer": "ipython3",
   "version": "3.8.10"
  }
 },
 "nbformat": 4,
 "nbformat_minor": 5
}
