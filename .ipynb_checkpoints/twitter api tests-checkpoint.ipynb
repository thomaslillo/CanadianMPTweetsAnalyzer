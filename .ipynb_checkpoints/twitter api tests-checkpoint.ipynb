{
 "cells": [
  {
   "cell_type": "markdown",
   "id": "1932d28e",
   "metadata": {},
   "source": [
    "## links to the documentation\n",
    "\n",
    "#### DEVELOPERS ACCOUNT LINK\n",
    "https://developer.twitter.com/en/portal/projects/1396566685520367622/apps\n",
    "\n",
    "Consuming streatming data\n",
    "https://developer.twitter.com/en/docs/tutorials/consuming-streaming-data\n",
    "\n",
    "github examples\n",
    "https://github.com/twitterdev/Twitter-API-v2-sample-code/blob/master/Recent-Search/recent_search.py\n",
    "\n",
    "explore a users tweets - tutorial\n",
    "https://developer.twitter.com/en/docs/tutorials/explore-a-users-tweets\n",
    "\n",
    "past convo tutorial\n",
    "https://developer.twitter.com/en/docs/tutorials/analyze-past-conversations\n",
    "\n",
    "search tweets\n",
    "https://developer.twitter.com/en/docs/twitter-api/tweets/search/introduction\n",
    "\n",
    "tutorials - general\n",
    "https://developer.twitter.com/en/docs/tutorials"
   ]
  },
  {
   "cell_type": "code",
   "execution_count": 1,
   "id": "430a445f",
   "metadata": {},
   "outputs": [
    {
     "ename": "SyntaxError",
     "evalue": "invalid syntax (<ipython-input-1-b6a7c34bad86>, line 4)",
     "output_type": "error",
     "traceback": [
      "\u001b[1;36m  File \u001b[1;32m\"<ipython-input-1-b6a7c34bad86>\"\u001b[1;36m, line \u001b[1;32m4\u001b[0m\n\u001b[1;33m    export 'BEARER_TOKEN'='AAAAAAAAAAAAAAAAAAAAALnNPwEAAAAARPxO2h0miAqxDB4KKOzzlbdYjMQ%3DKxlk070Baka5kUmI8FrWb7Yr0vFAle7VKEIJ7yQ2r6Ks9N385i'\u001b[0m\n\u001b[1;37m           ^\u001b[0m\n\u001b[1;31mSyntaxError\u001b[0m\u001b[1;31m:\u001b[0m invalid syntax\n"
     ]
    }
   ],
   "source": [
    "## I do not understand this part, is it for security of the token?\n",
    "\n",
    "# To set your environment variables in your terminal run the following line:\n",
    "export 'BEARER_TOKEN'='AAAAAAAAAAAAAAAAAAAAALnNPwEAAAAARPxO2h0miAqxDB4KKOzzlbdYjMQ%3DKxlk070Baka5kUmI8FrWb7Yr0vFAle7VKEIJ7yQ2r6Ks9N385i'"
   ]
  },
  {
   "cell_type": "markdown",
   "id": "2c44d131",
   "metadata": {},
   "source": [
    "## important info\n",
    "\n",
    "API Key: OORhr4Go2BKYMblt915AmJsRC\n",
    "\n",
    "API Secret Key: RUMh90574HGVhasRtywPyxlkUaMlM66OXHMbDrWofFAjRAXU26\n",
    "\n",
    "Bearer Token: AAAAAAAAAAAAAAAAAAAAALnNPwEAAAAARPxO2h0miAqxDB4KKOzzlbdYjMQ%3DKxlk070Baka5kUmI8FrWb7Yr0vFAle7VKEIJ7yQ2r6Ks9N385i"
   ]
  },
  {
   "cell_type": "code",
   "execution_count": null,
   "id": "c538330c",
   "metadata": {},
   "outputs": [],
   "source": [
    "import requests\n",
    "import os\n",
    "import json"
   ]
  },
  {
   "cell_type": "code",
   "execution_count": null,
   "id": "198d486d",
   "metadata": {},
   "outputs": [],
   "source": [
    "justin = 'JustinTrudeau'\n",
    "otool = 'erinotooleSS'"
   ]
  },
  {
   "cell_type": "code",
   "execution_count": null,
   "id": "90b3da99",
   "metadata": {},
   "outputs": [],
   "source": [
    "# authentication with the bearer token\n",
    "def auth():\n",
    "    #return os.environ.get(\"BEARER_TOKEN\")\n",
    "    return 'AAAAAAAAAAAAAAAAAAAAALnNPwEAAAAARPxO2h0miAqxDB4KKOzzlbdYjMQ%3DKxlk070Baka5kUmI8FrWb7Yr0vFAle7VKEIJ7yQ2r6Ks9N385i'\n",
    "\n",
    "# create the URL of the request\n",
    "def create_url():\n",
    "    query = \"from:JustinTrudeau -is:retweet\"\n",
    "    # Tweet fields are adjustable.\n",
    "    # Options include:\n",
    "    # attachments, author_id, context_annotations,\n",
    "    # conversation_id, created_at, entities, geo, id,\n",
    "    # in_reply_to_user_id, lang, non_public_metrics, organic_metrics,\n",
    "    # possibly_sensitive, promoted_metrics, public_metrics, referenced_tweets,\n",
    "    # source, text, and withheld\n",
    "    tweet_fields = \"tweet.fields=author_id\"\n",
    "    url = \"https://api.twitter.com/2/tweets/search/recent?query={}&{}\".format(\n",
    "        query, tweet_fields\n",
    "    )\n",
    "    return url\n",
    "\n",
    "def create_headers(bearer_token):\n",
    "    headers = {\"Authorization\": \"Bearer {}\".format(bearer_token)}\n",
    "    return headers\n",
    "\n",
    "def connect_to_endpoint(url, headers):\n",
    "    response = requests.request(\"GET\", url, headers=headers)\n",
    "    print(response.status_code)\n",
    "    if response.status_code != 200:\n",
    "        raise Exception(response.status_code, response.text)\n",
    "    return response.json()"
   ]
  },
  {
   "cell_type": "code",
   "execution_count": null,
   "id": "2ac05384",
   "metadata": {},
   "outputs": [],
   "source": [
    "def main():\n",
    "    bearer_token = auth()\n",
    "    url = create_url()\n",
    "    headers = create_headers(bearer_token)\n",
    "    json_response = connect_to_endpoint(url, headers)\n",
    "    print(json.dumps(json_response, indent=4, sort_keys=True))"
   ]
  },
  {
   "cell_type": "code",
   "execution_count": 8,
   "id": "5c4ede49",
   "metadata": {},
   "outputs": [
    {
     "name": "stdout",
     "output_type": "stream",
     "text": [
      "200\n",
      "{\n",
      "    \"data\": [\n",
      "        {\n",
      "            \"author_id\": \"14260960\",\n",
      "            \"id\": \"1396584987806289932\",\n",
      "            \"text\": \"@sukhdhaliwal Thank you, Sukh, for moderating this important conversation. And to Sahib, Amna, and others who took part: thank you for your advocacy and hard work - it makes a difference. Let\\u2019s keep working to acknowledge this part of our past and find ways to move forward together.\"\n",
      "        },\n",
      "        {\n",
      "            \"author_id\": \"14260960\",\n",
      "            \"id\": \"1396459544876883968\",\n",
      "            \"text\": \"On the 107th anniversary of the Komagata Maru\\u2019s arrival in Canada, we remember the victims of this dark chapter in our history. We must also remember that diversity and inclusion are our strengths - and we must never repeat the injustices of our past. https://t.co/qruxktUOwJ\"\n",
      "        },\n",
      "        {\n",
      "            \"author_id\": \"14260960\",\n",
      "            \"id\": \"1396459523771088897\",\n",
      "            \"text\": \"En ce 107e anniversaire de l\\u2019arriv\\u00e9e du Komagata Maru au Canada, nous pensons aux victimes de ce sombre chapitre de notre histoire. Rappelons-nous aussi que la diversit\\u00e9 et l\\u2019inclusion sont nos forces et qu\\u2019il ne faut pas r\\u00e9p\\u00e9ter les injustices du pass\\u00e9. https://t.co/vKKmtSg6bd\"\n",
      "        },\n",
      "        {\n",
      "            \"author_id\": \"14260960\",\n",
      "            \"id\": \"1396451858772860931\",\n",
      "            \"text\": \"This year more than ever, paramedics have been putting themselves at risk to keep us safe and healthy. For that, and for always having our backs and showing incredible strength, we say thank you. This week and every week, know that we are so grateful. https://t.co/sBckMPaBiu https://t.co/bpapXDK6s5\"\n",
      "        },\n",
      "        {\n",
      "            \"author_id\": \"14260960\",\n",
      "            \"id\": \"1396451805731729408\",\n",
      "            \"text\": \"Plus que jamais, les param\\u00e9dics ont mis leur vie en danger pour nous prot\\u00e9ger. Pour \\u00e7a, et pour toujours veiller sur nous en faisant preuve d\\u2019une force incroyable, on vous remercie. Cette semaine, et chaque semaine, sachez qu\\u2019on est tr\\u00e8s reconnaissants. https://t.co/Ftkh3zDCfA https://t.co/VVoZjnjrC5\"\n",
      "        },\n",
      "        {\n",
      "            \"author_id\": \"14260960\",\n",
      "            \"id\": \"1395896556059041793\",\n",
      "            \"text\": \"Canada\\u2019s own Arjan Singh Bhullar is the first fighter of South Asian descent to become an MMA world champion - congratulations, @TheOneASB! Whether at the Pan Am Games, the Commonwealth Games, or the Olympics, you\\u2019ve always competed with courage and made Canadians proud. Bravo. https://t.co/lNl02z9au4\"\n",
      "        },\n",
      "        {\n",
      "            \"author_id\": \"14260960\",\n",
      "            \"id\": \"1395896507874807808\",\n",
      "            \"text\": \"Le Canadien Arjan Singh Bhullar est le premier combattant d\\u2019origine sud-asiatique \\u00e0 devenir champion du monde de MMA. F\\u00e9licitations, @TheOneASB! Que ce soit aux Jeux panam\\u00e9ricains, aux Jeux du Commonwealth ou aux Jeux olympiques, vous faites toujours la fiert\\u00e9 du Canada. Bravo! https://t.co/lNl02z9au4\"\n",
      "        },\n",
      "        {\n",
      "            \"author_id\": \"14260960\",\n",
      "            \"id\": \"1395851225124548612\",\n",
      "            \"text\": \"I also spoke on the phone with @Mayor_Bowman today. We talked about the rising number of COVID-19 cases in Winnipeg and the challenging situation on the ground - we\\u2019ll continue to be there for Winnipeggers and Manitobans as they fight this third wave.\"\n",
      "        },\n",
      "        {\n",
      "            \"author_id\": \"14260960\",\n",
      "            \"id\": \"1395851223530627076\",\n",
      "            \"text\": \"I reached out to Premier @BrianPallister this morning. We spoke about the current COVID-19 numbers in Manitoba and the steps we\\u2019re taking together to beat this virus - and I let him know the federal government will work with the province on additional support to keep people safe.\"\n",
      "        },\n",
      "        {\n",
      "            \"author_id\": \"14260960\",\n",
      "            \"id\": \"1395851195332374529\",\n",
      "            \"text\": \"J\\u2019ai \\u00e9galement eu une discussion t\\u00e9l\\u00e9phonique avec le @Mayor_Bowman aujourd\\u2019hui. On a parl\\u00e9 de la hausse de cas de COVID-19 \\u00e0 Winnipeg et de la situation difficile sur le terrain. On va continuer d\\u2019\\u00eatre l\\u00e0 pour les gens de Winnipeg et du Manitoba durant cette troisi\\u00e8me vague.\"\n",
      "        }\n",
      "    ],\n",
      "    \"meta\": {\n",
      "        \"newest_id\": \"1396584987806289932\",\n",
      "        \"next_token\": \"b26v89c19zqg8o3foswsoanxv17zl6roxsvarb4tjf0xp\",\n",
      "        \"oldest_id\": \"1395851195332374529\",\n",
      "        \"result_count\": 10\n",
      "    }\n",
      "}\n",
      "None\n"
     ]
    }
   ],
   "source": [
    "print(main())"
   ]
  },
  {
   "cell_type": "code",
   "execution_count": null,
   "id": "2a113e9c",
   "metadata": {},
   "outputs": [],
   "source": []
  }
 ],
 "metadata": {
  "kernelspec": {
   "display_name": "Python 3",
   "language": "python",
   "name": "python3"
  },
  "language_info": {
   "codemirror_mode": {
    "name": "ipython",
    "version": 3
   },
   "file_extension": ".py",
   "mimetype": "text/x-python",
   "name": "python",
   "nbconvert_exporter": "python",
   "pygments_lexer": "ipython3",
   "version": "3.8.10"
  }
 },
 "nbformat": 4,
 "nbformat_minor": 5
}
