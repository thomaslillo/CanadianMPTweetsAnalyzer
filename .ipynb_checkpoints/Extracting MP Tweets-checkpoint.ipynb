{
 "cells": [
  {
   "cell_type": "code",
   "execution_count": null,
   "id": "6e63f07f",
   "metadata": {},
   "outputs": [],
   "source": [
    "import requests\n",
    "import os\n",
    "import json\n",
    "import pandas as pd"
   ]
  },
  {
   "cell_type": "code",
   "execution_count": null,
   "id": "c56e0497",
   "metadata": {},
   "outputs": [],
   "source": [
    "# === user list request\n",
    "\n",
    "def bearer_oauth(r):\n",
    "    \"\"\"\n",
    "    Method required by bearer token authentication.\n",
    "    \"\"\"\n",
    "    token = os.environ[\"BEARER_TOKEN\"]\n",
    "    r.headers[\"Authorization\"] = f\"Bearer {token}\"\n",
    "    r.headers[\"User-Agent\"] = \"v2RecentSearchPython\"\n",
    "    return r\n",
    "\n",
    "def get_list(url, params):\n",
    "    response = requests.get(url, auth=bearer_oauth, params=params)\n",
    "    print(response.status_code)\n",
    "    if response.status_code != 200:\n",
    "        raise Exception(response.status_code, response.text)\n",
    "    return response.json()\n",
    "\n",
    "def id_list():\n",
    "    list_req_url = \"https://api.twitter.com/1.1/lists/members.json\"\n",
    "    parlListId = 864088912087715840\n",
    "    query_params = {'list_id': '{}'.format(parlListId), 'count': '5000'}\n",
    "    json_response = get_list(list_req_url, query_params)\n",
    "    # extract the user IDs\n",
    "    members = pd.DataFrame.from_dict(json_response['users'])\n",
    "    user_ids = list(members['id'])\n",
    "    return user_ids\n",
    "\n",
    "# === user information requests\n",
    "\n",
    "def create_headers():\n",
    "    \"\"\"\n",
    "    create the request headers, includes the token\n",
    "    \"\"\"\n",
    "    headers = {\"Authorization\": \"Bearer {}\".format(os.environ.get(\"BEARER_TOKEN\"))}\n",
    "    return headers\n",
    "\n",
    "def connect_to_endpoint(url, headers):\n",
    "    \"\"\"\n",
    "    connect to the API and return the json response\n",
    "    \"\"\"\n",
    "    response = requests.request(\"GET\", url, headers=headers)\n",
    "    print(response.status_code)\n",
    "    if response.status_code != 200:\n",
    "        raise Exception(response.status_code, response.text)\n",
    "    return response.json()\n",
    "\n",
    "def main():\n",
    "    headers = create_headers()\n",
    "    json_response = connect_to_endpoint(search_url, headers)\n",
    "    #return json.dumps(json_response, indent=4, sort_keys=True)\n",
    "    return json_response"
   ]
  },
  {
   "cell_type": "code",
   "execution_count": null,
   "id": "8c4ab6ca",
   "metadata": {},
   "outputs": [],
   "source": [
    "# get the current list of MPs\n",
    "user_id_list = id_list()\n",
    "print(len(user_id_list))"
   ]
  },
  {
   "cell_type": "code",
   "execution_count": null,
   "id": "594d7e99",
   "metadata": {},
   "outputs": [],
   "source": [
    "# list to hold all of the json responses\n",
    "aggregate_data = []"
   ]
  },
  {
   "cell_type": "code",
   "execution_count": null,
   "id": "ba9a2b3e",
   "metadata": {},
   "outputs": [],
   "source": [
    "for user in user_id_list:\n",
    "    # define which fields will be returned\n",
    "    tweet_fields = 'created_at,author_id,conversation_id,in_reply_to_user_id,referenced_tweets,text,public_metrics,context_annotations'\n",
    "    user_fields = 'username,created_at,public_metrics,verified,url'\n",
    "    expansions = 'author_id'\n",
    "    max_results = '30'\n",
    "    \n",
    "    # the user request url\n",
    "    search_url = \"https://api.twitter.com/2/users/{}/tweets?expansions={}&tweet.fields={}&user.fields={}&max_results={}\".format(user,expansions,tweet_fields,user_fields,max_results)\n",
    "    print(search_url)\n",
    "    response = main()\n",
    "    \n",
    "    aggregate_data.append(response)"
   ]
  },
  {
   "cell_type": "code",
   "execution_count": null,
   "id": "8be01306",
   "metadata": {},
   "outputs": [],
   "source": [
    "# check that we have all the MPs\n",
    "print(len(aggregate_data))"
   ]
  },
  {
   "cell_type": "code",
   "execution_count": null,
   "id": "7ff694e9",
   "metadata": {},
   "outputs": [],
   "source": [
    "import pickle\n",
    "\n",
    "with open('mptweetspickle', 'wb') as fp:\n",
    "    pickle.dump(aggregate_data, fp)"
   ]
  },
  {
   "cell_type": "code",
   "execution_count": null,
   "id": "04b30920",
   "metadata": {},
   "outputs": [],
   "source": [
    "print(aggregate_data[0])"
   ]
  },
  {
   "cell_type": "code",
   "execution_count": null,
   "id": "6f2f5f66",
   "metadata": {},
   "outputs": [],
   "source": []
  }
 ],
 "metadata": {
  "kernelspec": {
   "display_name": "Python 3",
   "language": "python",
   "name": "python3"
  },
  "language_info": {
   "codemirror_mode": {
    "name": "ipython",
    "version": 3
   },
   "file_extension": ".py",
   "mimetype": "text/x-python",
   "name": "python",
   "nbconvert_exporter": "python",
   "pygments_lexer": "ipython3",
   "version": "3.8.10"
  }
 },
 "nbformat": 4,
 "nbformat_minor": 5
}
